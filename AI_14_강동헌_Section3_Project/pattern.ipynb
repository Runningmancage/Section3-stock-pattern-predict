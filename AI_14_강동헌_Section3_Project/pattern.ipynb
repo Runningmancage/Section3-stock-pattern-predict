{
  "cells": [
    {
      "cell_type": "code",
      "execution_count": 80,
      "id": "HT3cpdW08SIS",
      "metadata": {
        "id": "HT3cpdW08SIS"
      },
      "outputs": [],
      "source": [
        "import warnings\n",
        "import matplotlib.pyplot as plt\n",
        "from matplotlib.figure import Figure\n",
        "import pandas as pd\n",
        "import numpy as np\n",
        "from numpy import dot\n",
        "from numpy.linalg import norm\n",
        "\n",
        "warnings.filterwarnings('ignore')"
      ]
    },
    {
      "cell_type": "code",
      "execution_count": 115,
      "id": "kgfnT4hlGVT6",
      "metadata": {
        "colab": {
          "base_uri": "https://localhost:8080/"
        },
        "id": "kgfnT4hlGVT6",
        "outputId": "7f100068-ce6c-4330-9070-a7be9a3d97c6"
      },
      "outputs": [
        {
          "data": {
            "text/plain": [
              "RangeIndex(start=0, stop=5560, step=1)"
            ]
          },
          "execution_count": 115,
          "metadata": {},
          "output_type": "execute_result"
        }
      ],
      "source": [
        "df = pd.read_csv('sam22y.csv')\n",
        "df.index"
      ]
    },
    {
      "cell_type": "code",
      "execution_count": 116,
      "id": "VN-P3LhBGtzm",
      "metadata": {
        "id": "VN-P3LhBGtzm"
      },
      "outputs": [],
      "source": [
        "df.set_index('Date', drop=True, inplace=True)"
      ]
    },
    {
      "cell_type": "code",
      "execution_count": 118,
      "id": "rVtacKVv8siK",
      "metadata": {
        "colab": {
          "base_uri": "https://localhost:8080/"
        },
        "id": "rVtacKVv8siK",
        "outputId": "bfa5be10-8169-4fa8-cd14-acb350a490e9"
      },
      "outputs": [
        {
          "data": {
            "text/plain": [
              "Index(['2000-01-04', '2000-01-05', '2000-01-06', '2000-01-07', '2000-01-10',\n",
              "       '2000-01-11', '2000-01-12', '2000-01-13', '2000-01-14', '2000-01-17',\n",
              "       ...\n",
              "       '2022-08-12', '2022-08-16', '2022-08-17', '2022-08-18', '2022-08-19',\n",
              "       '2022-08-22', '2022-08-23', '2022-08-24', '2022-08-25', '2022-08-26'],\n",
              "      dtype='object', name='Date', length=5560)"
            ]
          },
          "execution_count": 118,
          "metadata": {},
          "output_type": "execute_result"
        }
      ],
      "source": [
        "df.index"
      ]
    },
    {
      "cell_type": "code",
      "execution_count": 68,
      "id": "AxPf1UhV8SIY",
      "metadata": {
        "id": "AxPf1UhV8SIY"
      },
      "outputs": [],
      "source": [
        "# 종가만 추출\n",
        "close = df['Close']\n",
        "\n",
        "# 비교 기준 구간\n",
        "start_date = '2022-08-01'\n",
        "end_date = '2022-08-26'"
      ]
    },
    {
      "cell_type": "code",
      "execution_count": 69,
      "id": "Vbs4QcAS8SIa",
      "metadata": {
        "colab": {
          "base_uri": "https://localhost:8080/",
          "height": 279
        },
        "id": "Vbs4QcAS8SIa",
        "outputId": "69c92b98-98f6-469d-be6a-b55ee71a1fee"
      },
      "outputs": [
        {
          "data": {
            "image/png": "[encoded data removed]",
            "text/plain": [
              "<Figure size 432x288 with 1 Axes>"
            ]
          },
          "metadata": {
            "needs_background": "light"
          },
          "output_type": "display_data"
        }
      ],
      "source": [
        "# 기준 구간 시계열 차트\n",
        "close[start_date:end_date].plot();"
      ]
    },
    {
      "cell_type": "code",
      "execution_count": 84,
      "id": "cH0Y5Xxn8SIb",
      "metadata": {
        "colab": {
          "base_uri": "https://localhost:8080/"
        },
        "id": "cH0Y5Xxn8SIb",
        "outputId": "eb692702-72c3-42cb-8be5-01e57a042375"
      },
      "outputs": [
        {
          "data": {
            "text/plain": [
              "Date\n",
              "2022-08-01    61300\n",
              "2022-08-02    61700\n",
              "2022-08-03    61300\n",
              "2022-08-04    61500\n",
              "2022-08-05    61500\n",
              "2022-08-08    60800\n",
              "2022-08-09    60000\n",
              "2022-08-10    59100\n",
              "2022-08-11    59900\n",
              "2022-08-12    60200\n",
              "2022-08-16    61000\n",
              "2022-08-17    60400\n",
              "2022-08-18    61500\n",
              "2022-08-19    60900\n",
              "2022-08-22    60000\n",
              "2022-08-23    59100\n",
              "2022-08-24    59000\n",
              "2022-08-25    59700\n",
              "2022-08-26    60500\n",
              "Name: Close, dtype: int64"
            ]
          },
          "execution_count": 84,
          "metadata": {},
          "output_type": "execute_result"
        }
      ],
      "source": [
        "base = close[start_date:end_date]\n",
        "base"
      ]
    },
    {
      "cell_type": "code",
      "execution_count": 85,
      "id": "0cm8cUfd8SIc",
      "metadata": {
        "colab": {
          "base_uri": "https://localhost:8080/"
        },
        "id": "0cm8cUfd8SIc",
        "outputId": "312f821a-787b-4f84-bccf-23c751314ded"
      },
      "outputs": [
        {
          "data": {
            "text/plain": [
              "Date\n",
              "2022-08-01    0.851852\n",
              "2022-08-02    1.000000\n",
              "2022-08-03    0.851852\n",
              "2022-08-04    0.925926\n",
              "2022-08-05    0.925926\n",
              "2022-08-08    0.666667\n",
              "2022-08-09    0.370370\n",
              "2022-08-10    0.037037\n",
              "2022-08-11    0.333333\n",
              "2022-08-12    0.444444\n",
              "2022-08-16    0.740741\n",
              "2022-08-17    0.518519\n",
              "2022-08-18    0.925926\n",
              "2022-08-19    0.703704\n",
              "2022-08-22    0.370370\n",
              "2022-08-23    0.037037\n",
              "2022-08-24    0.000000\n",
              "2022-08-25    0.259259\n",
              "2022-08-26    0.555556\n",
              "Name: Close, dtype: float64"
            ]
          },
          "execution_count": 85,
          "metadata": {},
          "output_type": "execute_result"
        }
      ],
      "source": [
        "base_norm = (base - base.min()) / (base.max() - base.min())\n",
        "base_norm"
      ]
    },
    {
      "cell_type": "code",
      "execution_count": 92,
      "id": "VlduU38w8SId",
      "metadata": {
        "id": "VlduU38w8SId"
      },
      "outputs": [],
      "source": [
        "# 윈도우 사이즈\n",
        "window_size = len(base)\n",
        "\n",
        "# 예측 기간\n",
        "pre_date = 5\n",
        "\n",
        "# 검색 횟수\n",
        "moving_cnt = len(df) - window_size - pre_date - 1"
      ]
    },
    {
      "cell_type": "code",
      "execution_count": 88,
      "id": "vSUMJ78aIQw0",
      "metadata": {
        "id": "vSUMJ78aIQw0"
      },
      "outputs": [],
      "source": [
        "def cosine_similarity(x, y):\n",
        "    return np.dot(x, y) / (np.sqrt(np.dot(x, x)) * np.sqrt(np.dot(y, y)))"
      ]
    },
    {
      "cell_type": "code",
      "execution_count": 89,
      "id": "DtVTlarm8SIe",
      "metadata": {
        "id": "DtVTlarm8SIe"
      },
      "outputs": [],
      "source": [
        "# 유사도 저장 딕셔너리\n",
        "sim_list = []\n",
        "\n",
        "for i in range(moving_cnt):\n",
        "    target = close[i:i+window_size]\n",
        "    \n",
        "    # Normalize\n",
        "    target_norm = (target - target.min()) / (target.max() - target.min())\n",
        "    \n",
        "    # 코사인 유사도 저장(1에 가까울 수록 유사도 높음,https://wikidocs.net/24603)\n",
        "    cosine = cosine_similarity(base_norm, target_norm)\n",
        "    \n",
        "    # 코사인 유사도 <- i(인덱스), 시계열데이터 함께 저장\n",
        "    sim_list.append(cosine)"
      ]
    },
    {
      "cell_type": "code",
      "execution_count": 93,
      "id": "yV1J7RxD8SIg",
      "metadata": {
        "colab": {
          "base_uri": "https://localhost:8080/"
        },
        "id": "yV1J7RxD8SIg",
        "outputId": "29f9e38f-0059-4e5e-8d2b-401d88f3c35a"
      },
      "outputs": [
        {
          "data": {
            "text/plain": [
              "4017    0.958201\n",
              "348     0.957662\n",
              "3318    0.950595\n",
              "5470    0.950405\n",
              "1710    0.947660\n",
              "1726    0.946445\n",
              "14      0.946010\n",
              "3317    0.945347\n",
              "2287    0.945292\n",
              "1684    0.943519\n",
              "5238    0.942952\n",
              "2727    0.942440\n",
              "5237    0.941668\n",
              "3069    0.941408\n",
              "2737    0.941203\n",
              "3789    0.940296\n",
              "3326    0.940219\n",
              "2137    0.939356\n",
              "5421    0.939147\n",
              "1683    0.939095\n",
              "dtype: float64"
            ]
          },
          "execution_count": 93,
          "metadata": {},
          "output_type": "execute_result"
        }
      ],
      "source": [
        "pd.Series(sim_list).sort_values(ascending=False).head(20)"
      ]
    },
    {
      "cell_type": "code",
      "execution_count": 94,
      "id": "5pqiXl6P8SIh",
      "metadata": {
        "colab": {
          "base_uri": "https://localhost:8080/",
          "height": 265
        },
        "id": "5pqiXl6P8SIh",
        "outputId": "331b88d6-a2da-4077-d2ec-2622543710bf"
      },
      "outputs": [
        {
          "data": {
            "image/png": "[encoded data removed]",
            "text/plain": [
              "<Figure size 432x288 with 1 Axes>"
            ]
          },
          "metadata": {
            "needs_background": "light"
          },
          "output_type": "display_data"
        }
      ],
      "source": [
        "idx = 4017\n",
        "\n",
        "top = close[idx:idx+window_size+pre_date]\n",
        "top_norm = (top - top.min()) / (top.max() - top.min())\n",
        "\n",
        "plt.plot(base_norm.values, label='base')\n",
        "plt.plot(top_norm.values, label='target')\n",
        "plt.axvline(x=len(base_norm)-1, c='r', linestyle='--')\n",
        "plt.axvspan(len(base_norm.values)-1, len(top_norm.values)-1, facecolor='yellow', alpha=0.3)\n",
        "plt.legend()\n",
        "plt.show()"
      ]
    },
    {
      "cell_type": "code",
      "execution_count": 119,
      "id": "_bD6ORJZ8SIi",
      "metadata": {
        "id": "_bD6ORJZ8SIi"
      },
      "outputs": [],
      "source": [
        "class PatternFinder():\n",
        "    def __init__(self, pre_date=5):\n",
        "        self.pre_date = pre_date\n",
        "    \n",
        "    def set_stock(self):\n",
        "        \n",
        "        self.data = pd.read_csv('sam22y.csv').set_index(\"Date\",drop=True)\n",
        "        self.close = self.data['Close']\n",
        "        self.change = self.data['Change']\n",
        "        return self.data\n",
        "        \n",
        "    def search(self, start_date, end_date, threshold=0.95):\n",
        "        base = self.close[start_date:end_date]\n",
        "        self.base_norm = (base - base.min()) / (base.max() - base.min())\n",
        "        self.base = base\n",
        "        \n",
        "        display(base)\n",
        "        \n",
        "        window_size = len(base)\n",
        "        moving_cnt = len(self.data) - window_size - self.pre_date - 1\n",
        "        cos_sims = self.__cosine_sims(moving_cnt, window_size)\n",
        "        \n",
        "        self.window_size = window_size\n",
        "        cos_sims = cos_sims[cos_sims > threshold]\n",
        "        return cos_sims\n",
        "    \n",
        "    \n",
        "    def __cosine_sims(self, moving_cnt, window_size):\n",
        "        def cosine_similarity(x, y):\n",
        "            return np.dot(x, y) / (np.sqrt(np.dot(x, x)) * np.sqrt(np.dot(y, y)))\n",
        "        \n",
        "        # 유사도 저장 딕셔너리\n",
        "        sim_list = []\n",
        "\n",
        "        for i in range(moving_cnt):\n",
        "            target = self.close[i:i+window_size]\n",
        "\n",
        "            # Normalize\n",
        "            target_norm = (target - target.min()) / (target.max() - target.min())\n",
        "\n",
        "            # 코사인 유사도 저장\n",
        "            cosine = cosine_similarity(self.base_norm, target_norm)\n",
        "\n",
        "            # 코사인 유사도 <- i(인덱스), 시계열데이터 함께 저장\n",
        "            sim_list.append(cosine)\n",
        "        return pd.Series(sim_list).sort_values(ascending=False)\n",
        "\n",
        "    \n",
        "    def plot_pattern(self, idx, pre_date=5):\n",
        "        if pre_date != self.pre_date:\n",
        "            self.pre_date = pre_date\n",
        "            \n",
        "        top = self.close[idx:idx+self.window_size+pre_date]\n",
        "        top_norm = (top - top.min()) / (top.max() - top.min())\n",
        "\n",
        "        plt.plot(self.base_norm.values, label='base')\n",
        "        plt.plot(top_norm.values, label='target')\n",
        "        plt.axvline(x=len(self.base_norm)-1, c='r', linestyle='--')\n",
        "        plt.axvspan(len(self.base_norm.values)-1, len(top_norm.values)-1, facecolor='yellow', alpha=0.3)\n",
        "        plt.legend()\n",
        "        plt.show()\n",
        "        \n",
        "        \n",
        "        preds = self.change[idx+self.window_size: idx+self.window_size+pre_date]\n",
        "        display(preds)\n",
        "        print(f'pred: {preds.mean()*100} % ')\n",
        "\n",
        "    \n",
        "    def stat_prediction(self, result, pre_date=5):\n",
        "        idx_list = list(result.keys())\n",
        "        mean_list = []\n",
        "        for idx in idx_list:\n",
        "            pred = self.change[idx+self.window_size: idx+self.window_size+pre_date]\n",
        "            mean_list.append(pred.mean())\n",
        "        return np.array(mean_list)"
      ]
    },
    {
      "cell_type": "code",
      "execution_count": 120,
      "id": "nyMgBGqc8SIm",
      "metadata": {
        "id": "nyMgBGqc8SIm"
      },
      "outputs": [],
      "source": [
        "p = PatternFinder()"
      ]
    },
    {
      "cell_type": "code",
      "execution_count": 121,
      "id": "bJgwqdcE8SIn",
      "metadata": {
        "colab": {
          "base_uri": "https://localhost:8080/",
          "height": 455
        },
        "id": "bJgwqdcE8SIn",
        "outputId": "89d9707d-f7b9-4ac0-8f43-da8c04215954"
      },
      "outputs": [
        {
          "data": {
            "text/html": [
              "\n",
              "  <div id=\"df-e8a7de24-308a-4246-b2a3-e326269b6bf5\">\n",
              "    <div class=\"colab-df-container\">\n",
              "      <div>\n",
              "<style scoped>\n",
              "    .dataframe tbody tr th:only-of-type {\n",
              "        vertical-align: middle;\n",
              "    }\n",
              "\n",
              "    .dataframe tbody tr th {\n",
              "        vertical-align: top;\n",
              "    }\n",
              "\n",
              "    .dataframe thead th {\n",
              "        text-align: right;\n",
              "    }\n",
              "</style>\n",
              "<table border=\"1\" class=\"dataframe\">\n",
              "  <thead>\n",
              "    <tr style=\"text-align: right;\">\n",
              "      <th></th>\n",
              "      <th>Open</th>\n",
              "      <th>High</th>\n",
              "      <th>Low</th>\n",
              "      <th>Close</th>\n",
              "      <th>Adj Close</th>\n",
              "      <th>Volume</th>\n",
              "      <th>Change</th>\n",
              "    </tr>\n",
              "    <tr>\n",
              "      <th>Date</th>\n",
              "      <th></th>\n",
              "      <th></th>\n",
              "      <th></th>\n",
              "      <th></th>\n",
              "      <th></th>\n",
              "      <th></th>\n",
              "      <th></th>\n",
              "    </tr>\n",
              "  </thead>\n",
              "  <tbody>\n",
              "    <tr>\n",
              "      <th>2000-01-04</th>\n",
              "      <td>6000</td>\n",
              "      <td>6110</td>\n",
              "      <td>5660</td>\n",
              "      <td>6110</td>\n",
              "      <td>4623.467773</td>\n",
              "      <td>74195000</td>\n",
              "      <td>0.00</td>\n",
              "    </tr>\n",
              "    <tr>\n",
              "      <th>2000-01-05</th>\n",
              "      <td>5800</td>\n",
              "      <td>6060</td>\n",
              "      <td>5520</td>\n",
              "      <td>5580</td>\n",
              "      <td>4222.413086</td>\n",
              "      <td>74680000</td>\n",
              "      <td>-8.67</td>\n",
              "    </tr>\n",
              "    <tr>\n",
              "      <th>2000-01-06</th>\n",
              "      <td>5750</td>\n",
              "      <td>5780</td>\n",
              "      <td>5580</td>\n",
              "      <td>5620</td>\n",
              "      <td>4252.679688</td>\n",
              "      <td>54390000</td>\n",
              "      <td>0.72</td>\n",
              "    </tr>\n",
              "    <tr>\n",
              "      <th>2000-01-07</th>\n",
              "      <td>5560</td>\n",
              "      <td>5670</td>\n",
              "      <td>5360</td>\n",
              "      <td>5540</td>\n",
              "      <td>4192.145020</td>\n",
              "      <td>40305000</td>\n",
              "      <td>-1.42</td>\n",
              "    </tr>\n",
              "    <tr>\n",
              "      <th>2000-01-10</th>\n",
              "      <td>5600</td>\n",
              "      <td>5770</td>\n",
              "      <td>5580</td>\n",
              "      <td>5770</td>\n",
              "      <td>4366.187500</td>\n",
              "      <td>46880000</td>\n",
              "      <td>4.15</td>\n",
              "    </tr>\n",
              "    <tr>\n",
              "      <th>...</th>\n",
              "      <td>...</td>\n",
              "      <td>...</td>\n",
              "      <td>...</td>\n",
              "      <td>...</td>\n",
              "      <td>...</td>\n",
              "      <td>...</td>\n",
              "      <td>...</td>\n",
              "    </tr>\n",
              "    <tr>\n",
              "      <th>2022-08-22</th>\n",
              "      <td>60300</td>\n",
              "      <td>60400</td>\n",
              "      <td>59800</td>\n",
              "      <td>60000</td>\n",
              "      <td>60000.000000</td>\n",
              "      <td>8259865</td>\n",
              "      <td>-1.48</td>\n",
              "    </tr>\n",
              "    <tr>\n",
              "      <th>2022-08-23</th>\n",
              "      <td>59000</td>\n",
              "      <td>59600</td>\n",
              "      <td>59000</td>\n",
              "      <td>59100</td>\n",
              "      <td>59100.000000</td>\n",
              "      <td>9041629</td>\n",
              "      <td>-1.50</td>\n",
              "    </tr>\n",
              "    <tr>\n",
              "      <th>2022-08-24</th>\n",
              "      <td>59200</td>\n",
              "      <td>59500</td>\n",
              "      <td>59000</td>\n",
              "      <td>59000</td>\n",
              "      <td>59000.000000</td>\n",
              "      <td>8888486</td>\n",
              "      <td>-0.17</td>\n",
              "    </tr>\n",
              "    <tr>\n",
              "      <th>2022-08-25</th>\n",
              "      <td>59200</td>\n",
              "      <td>59700</td>\n",
              "      <td>59000</td>\n",
              "      <td>59700</td>\n",
              "      <td>59700.000000</td>\n",
              "      <td>5767902</td>\n",
              "      <td>1.19</td>\n",
              "    </tr>\n",
              "    <tr>\n",
              "      <th>2022-08-26</th>\n",
              "      <td>60300</td>\n",
              "      <td>60900</td>\n",
              "      <td>60100</td>\n",
              "      <td>60500</td>\n",
              "      <td>60500.000000</td>\n",
              "      <td>5343235</td>\n",
              "      <td>1.34</td>\n",
              "    </tr>\n",
              "  </tbody>\n",
              "</table>\n",
              "<p>5560 rows × 7 columns</p>\n",
              "</div>\n",
              "      <button class=\"colab-df-convert\" onclick=\"convertToInteractive('df-e8a7de24-308a-4246-b2a3-e326269b6bf5')\"\n",
              "              title=\"Convert this dataframe to an interactive table.\"\n",
              "              style=\"display:none;\">\n",
              "        \n",
              "  <svg xmlns=\"http://www.w3.org/2000/svg\" height=\"24px\"viewBox=\"0 0 24 24\"\n",
              "       width=\"24px\">\n",
              "    <path d=\"M0 0h24v24H0V0z\" fill=\"none\"/>\n",
              "    <path d=\"M18.56 5.44l.94 2.06.94-2.06 2.06-.94-2.06-.94-.94-2.06-.94 2.06-2.06.94zm-11 1L8.5 8.5l.94-2.06 2.06-.94-2.06-.94L8.5 2.5l-.94 2.06-2.06.94zm10 10l.94 2.06.94-2.06 2.06-.94-2.06-.94-.94-2.06-.94 2.06-2.06.94z\"/><path d=\"M17.41 7.96l-1.37-1.37c-.4-.4-.92-.59-1.43-.59-.52 0-1.04.2-1.43.59L10.3 9.45l-7.72 7.72c-.78.78-.78 2.05 0 2.83L4 21.41c.39.39.9.59 1.41.59.51 0 1.02-.2 1.41-.59l7.78-7.78 2.81-2.81c.8-.78.8-2.07 0-2.86zM5.41 20L4 18.59l7.72-7.72 1.47 1.35L5.41 20z\"/>\n",
              "  </svg>\n",
              "      </button>\n",
              "      \n",
              "  <style>\n",
              "    .colab-df-container {\n",
              "      display:flex;\n",
              "      flex-wrap:wrap;\n",
              "      gap: 12px;\n",
              "    }\n",
              "\n",
              "    .colab-df-convert {\n",
              "      background-color: #E8F0FE;\n",
              "      border: none;\n",
              "      border-radius: 50%;\n",
              "      cursor: pointer;\n",
              "      display: none;\n",
              "      fill: #1967D2;\n",
              "      height: 32px;\n",
              "      padding: 0 0 0 0;\n",
              "      width: 32px;\n",
              "    }\n",
              "\n",
              "    .colab-df-convert:hover {\n",
              "      background-color: #E2EBFA;\n",
              "      box-shadow: 0px 1px 2px rgba(60, 64, 67, 0.3), 0px 1px 3px 1px rgba(60, 64, 67, 0.15);\n",
              "      fill: #174EA6;\n",
              "    }\n",
              "\n",
              "    [theme=dark] .colab-df-convert {\n",
              "      background-color: #3B4455;\n",
              "      fill: #D2E3FC;\n",
              "    }\n",
              "\n",
              "    [theme=dark] .colab-df-convert:hover {\n",
              "      background-color: #434B5C;\n",
              "      box-shadow: 0px 1px 3px 1px rgba(0, 0, 0, 0.15);\n",
              "      filter: drop-shadow(0px 1px 2px rgba(0, 0, 0, 0.3));\n",
              "      fill: #FFFFFF;\n",
              "    }\n",
              "  </style>\n",
              "\n",
              "      <script>\n",
              "        const buttonEl =\n",
              "          document.querySelector('#df-e8a7de24-308a-4246-b2a3-e326269b6bf5 button.colab-df-convert');\n",
              "        buttonEl.style.display =\n",
              "          google.colab.kernel.accessAllowed ? 'block' : 'none';\n",
              "\n",
              "        async function convertToInteractive(key) {\n",
              "          const element = document.querySelector('#df-e8a7de24-308a-4246-b2a3-e326269b6bf5');\n",
              "          const dataTable =\n",
              "            await google.colab.kernel.invokeFunction('convertToInteractive',\n",
              "                                                     [key], {});\n",
              "          if (!dataTable) return;\n",
              "\n",
              "          const docLinkHtml = 'Like what you see? Visit the ' +\n",
              "            '<a target=\"_blank\" href=https://colab.research.google.com/notebooks/data_table.ipynb>data table notebook</a>'\n",
              "            + ' to learn more about interactive tables.';\n",
              "          element.innerHTML = '';\n",
              "          dataTable['output_type'] = 'display_data';\n",
              "          await google.colab.output.renderOutput(dataTable, element);\n",
              "          const docLink = document.createElement('div');\n",
              "          docLink.innerHTML = docLinkHtml;\n",
              "          element.appendChild(docLink);\n",
              "        }\n",
              "      </script>\n",
              "    </div>\n",
              "  </div>\n",
              "  "
            ],
            "text/plain": [
              "             Open   High    Low  Close     Adj Close    Volume  Change\n",
              "Date                                                                  \n",
              "2000-01-04   6000   6110   5660   6110   4623.467773  74195000    0.00\n",
              "2000-01-05   5800   6060   5520   5580   4222.413086  74680000   -8.67\n",
              "2000-01-06   5750   5780   5580   5620   4252.679688  54390000    0.72\n",
              "2000-01-07   5560   5670   5360   5540   4192.145020  40305000   -1.42\n",
              "2000-01-10   5600   5770   5580   5770   4366.187500  46880000    4.15\n",
              "...           ...    ...    ...    ...           ...       ...     ...\n",
              "2022-08-22  60300  60400  59800  60000  60000.000000   8259865   -1.48\n",
              "2022-08-23  59000  59600  59000  59100  59100.000000   9041629   -1.50\n",
              "2022-08-24  59200  59500  59000  59000  59000.000000   8888486   -0.17\n",
              "2022-08-25  59200  59700  59000  59700  59700.000000   5767902    1.19\n",
              "2022-08-26  60300  60900  60100  60500  60500.000000   5343235    1.34\n",
              "\n",
              "[5560 rows x 7 columns]"
            ]
          },
          "execution_count": 121,
          "metadata": {},
          "output_type": "execute_result"
        }
      ],
      "source": [
        "p.set_stock()"
      ]
    },
    {
      "cell_type": "code",
      "execution_count": 122,
      "id": "-DQsLAU68SIo",
      "metadata": {
        "colab": {
          "base_uri": "https://localhost:8080/",
          "height": 403
        },
        "id": "-DQsLAU68SIo",
        "outputId": "862a868f-33de-4166-950e-fd5d7306741f"
      },
      "outputs": [
        {
          "data": {
            "text/plain": [
              "Date\n",
              "2022-08-01    61300\n",
              "2022-08-02    61700\n",
              "2022-08-03    61300\n",
              "2022-08-04    61500\n",
              "2022-08-05    61500\n",
              "2022-08-08    60800\n",
              "2022-08-09    60000\n",
              "2022-08-10    59100\n",
              "2022-08-11    59900\n",
              "2022-08-12    60200\n",
              "2022-08-16    61000\n",
              "2022-08-17    60400\n",
              "2022-08-18    61500\n",
              "2022-08-19    60900\n",
              "2022-08-22    60000\n",
              "2022-08-23    59100\n",
              "2022-08-24    59000\n",
              "2022-08-25    59700\n",
              "2022-08-26    60500\n",
              "Name: Close, dtype: int64"
            ]
          },
          "metadata": {},
          "output_type": "display_data"
        }
      ],
      "source": [
        "result = p.search('2022-08-01', '2022-08-26')"
      ]
    },
    {
      "cell_type": "code",
      "execution_count": 123,
      "id": "suXqBy3T8SIp",
      "metadata": {
        "colab": {
          "base_uri": "https://localhost:8080/"
        },
        "id": "suXqBy3T8SIp",
        "outputId": "4362ffde-f7d6-45d1-ec51-74d87d8fcd07"
      },
      "outputs": [
        {
          "data": {
            "text/plain": [
              "array([ 0.428,  0.048, -0.298,  0.482])"
            ]
          },
          "execution_count": 123,
          "metadata": {},
          "output_type": "execute_result"
        }
      ],
      "source": [
        "pred = p.stat_prediction(result)\n",
        "pred"
      ]
    },
    {
      "cell_type": "code",
      "execution_count": 125,
      "id": "C4MojKNNQnWO",
      "metadata": {
        "colab": {
          "base_uri": "https://localhost:8080/"
        },
        "id": "C4MojKNNQnWO",
        "outputId": "401def39-f91e-4f3a-ec02-7e4fdcd5a39f"
      },
      "outputs": [
        {
          "data": {
            "text/plain": [
              "4017    0.958201\n",
              "348     0.957662\n",
              "3318    0.950595\n",
              "5470    0.950405\n",
              "dtype: float64"
            ]
          },
          "execution_count": 125,
          "metadata": {},
          "output_type": "execute_result"
        }
      ],
      "source": [
        "result"
      ]
    },
    {
      "cell_type": "code",
      "execution_count": 129,
      "id": "rn98llGd8SIq",
      "metadata": {
        "colab": {
          "base_uri": "https://localhost:8080/",
          "height": 412
        },
        "id": "rn98llGd8SIq",
        "outputId": "73c798bf-374d-4b34-d86f-8e73b051cb03"
      },
      "outputs": [
        {
          "data": {
            "image/png": "[encoded data removed]",
            "text/plain": [
              "<Figure size 432x288 with 1 Axes>"
            ]
          },
          "metadata": {
            "needs_background": "light"
          },
          "output_type": "display_data"
        },
        {
          "data": {
            "text/plain": [
              "Date\n",
              "2022-05-17    1.96\n",
              "2022-05-18    0.74\n",
              "2022-05-19   -0.88\n",
              "2022-05-20    0.74\n",
              "2022-05-23   -0.15\n",
              "Name: Change, dtype: float64"
            ]
          },
          "metadata": {},
          "output_type": "display_data"
        },
        {
          "name": "stdout",
          "output_type": "stream",
          "text": [
            "pred: 48.20000000000001 % \n"
          ]
        }
      ],
      "source": [
        "p.plot_pattern(5470)"
      ]
    }
  ],
  "metadata": {
    "colab": {
      "collapsed_sections": [],
      "name": "stock-pattern-demo.ipynb",
      "provenance": []
    },
    "kernelspec": {
      "display_name": "Python 3.8.13 ('sc3')",
      "language": "python",
      "name": "python3"
    },
    "language_info": {
      "codemirror_mode": {
        "name": "ipython",
        "version": 3
      },
      "file_extension": ".py",
      "mimetype": "text/x-python",
      "name": "python",
      "nbconvert_exporter": "python",
      "pygments_lexer": "ipython3",
      "version": "3.8.13"
    },
    "vscode": {
      "interpreter": {
        "hash": "98d221649ac896773246fe1a80af152d2304146490090d859dd15c9abeded871"
      }
    },
    "widgets": {
      "application/vnd.jupyter.widget-state+json": {
        "03cbaf1d2c2b4da58638ebd47d873204": {
          "model_module": "@jupyter-widgets/controls",
          "model_module_version": "1.5.0",
          "model_name": "DescriptionStyleModel",
          "state": {
            "_model_module": "@jupyter-widgets/controls",
            "_model_module_version": "1.5.0",
            "_model_name": "DescriptionStyleModel",
            "_view_count": null,
            "_view_module": "@jupyter-widgets/base",
            "_view_module_version": "1.2.0",
            "_view_name": "StyleView",
            "description_width": ""
          }
        },
        "1937366903d84d4c8a83b789470e2460": {
          "model_module": "@jupyter-widgets/controls",
          "model_module_version": "1.5.0",
          "model_name": "DescriptionStyleModel",
          "state": {
            "_model_module": "@jupyter-widgets/controls",
            "_model_module_version": "1.5.0",
            "_model_name": "DescriptionStyleModel",
            "_view_count": null,
            "_view_module": "@jupyter-widgets/base",
            "_view_module_version": "1.2.0",
            "_view_name": "StyleView",
            "description_width": ""
          }
        },
        "213ecab408f8414aaca77fa27cd66bb9": {
          "model_module": "@jupyter-widgets/base",
          "model_module_version": "1.2.0",
          "model_name": "LayoutModel",
          "state": {
            "_model_module": "@jupyter-widgets/base",
            "_model_module_version": "1.2.0",
            "_model_name": "LayoutModel",
            "_view_count": null,
            "_view_module": "@jupyter-widgets/base",
            "_view_module_version": "1.2.0",
            "_view_name": "LayoutView",
            "align_content": null,
            "align_items": null,
            "align_self": null,
            "border": null,
            "bottom": null,
            "display": null,
            "flex": null,
            "flex_flow": null,
            "grid_area": null,
            "grid_auto_columns": null,
            "grid_auto_flow": null,
            "grid_auto_rows": null,
            "grid_column": null,
            "grid_gap": null,
            "grid_row": null,
            "grid_template_areas": null,
            "grid_template_columns": null,
            "grid_template_rows": null,
            "height": null,
            "justify_content": null,
            "justify_items": null,
            "left": null,
            "margin": null,
            "max_height": null,
            "max_width": null,
            "min_height": null,
            "min_width": null,
            "object_fit": null,
            "object_position": null,
            "order": null,
            "overflow": null,
            "overflow_x": null,
            "overflow_y": null,
            "padding": null,
            "right": null,
            "top": null,
            "visibility": null,
            "width": null
          }
        },
        "39de539f55cb49f7b2d42871172f6c0c": {
          "model_module": "@jupyter-widgets/base",
          "model_module_version": "1.2.0",
          "model_name": "LayoutModel",
          "state": {
            "_model_module": "@jupyter-widgets/base",
            "_model_module_version": "1.2.0",
            "_model_name": "LayoutModel",
            "_view_count": null,
            "_view_module": "@jupyter-widgets/base",
            "_view_module_version": "1.2.0",
            "_view_name": "LayoutView",
            "align_content": null,
            "align_items": null,
            "align_self": null,
            "border": null,
            "bottom": null,
            "display": null,
            "flex": null,
            "flex_flow": null,
            "grid_area": null,
            "grid_auto_columns": null,
            "grid_auto_flow": null,
            "grid_auto_rows": null,
            "grid_column": null,
            "grid_gap": null,
            "grid_row": null,
            "grid_template_areas": null,
            "grid_template_columns": null,
            "grid_template_rows": null,
            "height": null,
            "justify_content": null,
            "justify_items": null,
            "left": null,
            "margin": null,
            "max_height": null,
            "max_width": null,
            "min_height": null,
            "min_width": null,
            "object_fit": null,
            "object_position": null,
            "order": null,
            "overflow": null,
            "overflow_x": null,
            "overflow_y": null,
            "padding": null,
            "right": null,
            "top": null,
            "visibility": null,
            "width": null
          }
        },
        "3bfa1e75e30a4e49997213820a604f06": {
          "model_module": "@jupyter-widgets/base",
          "model_module_version": "1.2.0",
          "model_name": "LayoutModel",
          "state": {
            "_model_module": "@jupyter-widgets/base",
            "_model_module_version": "1.2.0",
            "_model_name": "LayoutModel",
            "_view_count": null,
            "_view_module": "@jupyter-widgets/base",
            "_view_module_version": "1.2.0",
            "_view_name": "LayoutView",
            "align_content": null,
            "align_items": null,
            "align_self": null,
            "border": null,
            "bottom": null,
            "display": null,
            "flex": null,
            "flex_flow": null,
            "grid_area": null,
            "grid_auto_columns": null,
            "grid_auto_flow": null,
            "grid_auto_rows": null,
            "grid_column": null,
            "grid_gap": null,
            "grid_row": null,
            "grid_template_areas": null,
            "grid_template_columns": null,
            "grid_template_rows": null,
            "height": null,
            "justify_content": null,
            "justify_items": null,
            "left": null,
            "margin": null,
            "max_height": null,
            "max_width": null,
            "min_height": null,
            "min_width": null,
            "object_fit": null,
            "object_position": null,
            "order": null,
            "overflow": null,
            "overflow_x": null,
            "overflow_y": null,
            "padding": null,
            "right": null,
            "top": null,
            "visibility": null,
            "width": null
          }
        },
        "4565ba07de3d49ffaef6bec6c962a61a": {
          "model_module": "@jupyter-widgets/base",
          "model_module_version": "1.2.0",
          "model_name": "LayoutModel",
          "state": {
            "_model_module": "@jupyter-widgets/base",
            "_model_module_version": "1.2.0",
            "_model_name": "LayoutModel",
            "_view_count": null,
            "_view_module": "@jupyter-widgets/base",
            "_view_module_version": "1.2.0",
            "_view_name": "LayoutView",
            "align_content": null,
            "align_items": null,
            "align_self": null,
            "border": null,
            "bottom": null,
            "display": null,
            "flex": null,
            "flex_flow": null,
            "grid_area": null,
            "grid_auto_columns": null,
            "grid_auto_flow": null,
            "grid_auto_rows": null,
            "grid_column": null,
            "grid_gap": null,
            "grid_row": null,
            "grid_template_areas": null,
            "grid_template_columns": null,
            "grid_template_rows": null,
            "height": null,
            "justify_content": null,
            "justify_items": null,
            "left": null,
            "margin": null,
            "max_height": null,
            "max_width": null,
            "min_height": null,
            "min_width": null,
            "object_fit": null,
            "object_position": null,
            "order": null,
            "overflow": null,
            "overflow_x": null,
            "overflow_y": null,
            "padding": null,
            "right": null,
            "top": null,
            "visibility": null,
            "width": null
          }
        },
        "565db58470f34c00af02a7c7fe57ae89": {
          "model_module": "@jupyter-widgets/controls",
          "model_module_version": "1.5.0",
          "model_name": "VBoxModel",
          "state": {
            "_dom_classes": [],
            "_model_module": "@jupyter-widgets/controls",
            "_model_module_version": "1.5.0",
            "_model_name": "VBoxModel",
            "_view_count": null,
            "_view_module": "@jupyter-widgets/controls",
            "_view_module_version": "1.5.0",
            "_view_name": "VBoxView",
            "box_style": "",
            "children": [
              "IPY_MODEL_5de5f09248604e9cb1da2f2ef1ef03d9",
              "IPY_MODEL_8970cae2bea447579ad1b2e22538483f"
            ],
            "layout": "IPY_MODEL_beac093aac3c4cd6af7d3f37bbec3ef8"
          }
        },
        "5de5f09248604e9cb1da2f2ef1ef03d9": {
          "model_module": "@jupyter-widgets/controls",
          "model_module_version": "1.5.0",
          "model_name": "ButtonModel",
          "state": {
            "_dom_classes": [],
            "_model_module": "@jupyter-widgets/controls",
            "_model_module_version": "1.5.0",
            "_model_name": "ButtonModel",
            "_view_count": null,
            "_view_module": "@jupyter-widgets/controls",
            "_view_module_version": "1.5.0",
            "_view_name": "ButtonView",
            "button_style": "",
            "description": "예측하기",
            "disabled": false,
            "icon": "",
            "layout": "IPY_MODEL_3bfa1e75e30a4e49997213820a604f06",
            "style": "IPY_MODEL_b94f7a62e6e547489c4c7080c130396e",
            "tooltip": "Send"
          }
        },
        "6d074457bfb74139836a07b3f2ec752a": {
          "model_module": "@jupyter-widgets/base",
          "model_module_version": "1.2.0",
          "model_name": "LayoutModel",
          "state": {
            "_model_module": "@jupyter-widgets/base",
            "_model_module_version": "1.2.0",
            "_model_name": "LayoutModel",
            "_view_count": null,
            "_view_module": "@jupyter-widgets/base",
            "_view_module_version": "1.2.0",
            "_view_name": "LayoutView",
            "align_content": null,
            "align_items": null,
            "align_self": null,
            "border": null,
            "bottom": null,
            "display": null,
            "flex": null,
            "flex_flow": null,
            "grid_area": null,
            "grid_auto_columns": null,
            "grid_auto_flow": null,
            "grid_auto_rows": null,
            "grid_column": null,
            "grid_gap": null,
            "grid_row": null,
            "grid_template_areas": null,
            "grid_template_columns": null,
            "grid_template_rows": null,
            "height": null,
            "justify_content": null,
            "justify_items": null,
            "left": null,
            "margin": null,
            "max_height": null,
            "max_width": null,
            "min_height": null,
            "min_width": null,
            "object_fit": null,
            "object_position": null,
            "order": null,
            "overflow": null,
            "overflow_x": null,
            "overflow_y": null,
            "padding": null,
            "right": null,
            "top": null,
            "visibility": null,
            "width": null
          }
        },
        "6fd7b1b29bee4300ba53b668d0e83dda": {
          "model_module": "@jupyter-widgets/controls",
          "model_module_version": "1.5.0",
          "model_name": "HTMLModel",
          "state": {
            "_dom_classes": [],
            "_model_module": "@jupyter-widgets/controls",
            "_model_module_version": "1.5.0",
            "_model_name": "HTMLModel",
            "_view_count": null,
            "_view_module": "@jupyter-widgets/controls",
            "_view_module_version": "1.5.0",
            "_view_name": "HTMLView",
            "description": "",
            "description_tooltip": null,
            "layout": "IPY_MODEL_8d4e74cae5f64d3080295267a7919c8e",
            "placeholder": "​",
            "style": "IPY_MODEL_9f1e593d78bb419ca0fa2b8485e6c768",
            "value": "<h2>날짜 선택</h2>"
          }
        },
        "70d09e76661c41fba1b3ad46f90586c5": {
          "model_module": "@jupyter-widgets/controls",
          "model_module_version": "1.5.0",
          "model_name": "VBoxModel",
          "state": {
            "_dom_classes": [],
            "_model_module": "@jupyter-widgets/controls",
            "_model_module_version": "1.5.0",
            "_model_name": "VBoxModel",
            "_view_count": null,
            "_view_module": "@jupyter-widgets/controls",
            "_view_module_version": "1.5.0",
            "_view_name": "VBoxView",
            "box_style": "",
            "children": [
              "IPY_MODEL_b9bcabd27b1d47989236568452c04129",
              "IPY_MODEL_a21cc04c3f604e56b3ef67afe601dc80"
            ],
            "layout": "IPY_MODEL_39de539f55cb49f7b2d42871172f6c0c"
          }
        },
        "82d1e4f2bd314bf7a7ffefb3de10ff36": {
          "model_module": "@jupyter-widgets/base",
          "model_module_version": "1.2.0",
          "model_name": "LayoutModel",
          "state": {
            "_model_module": "@jupyter-widgets/base",
            "_model_module_version": "1.2.0",
            "_model_name": "LayoutModel",
            "_view_count": null,
            "_view_module": "@jupyter-widgets/base",
            "_view_module_version": "1.2.0",
            "_view_name": "LayoutView",
            "align_content": null,
            "align_items": null,
            "align_self": null,
            "border": null,
            "bottom": null,
            "display": null,
            "flex": null,
            "flex_flow": null,
            "grid_area": null,
            "grid_auto_columns": null,
            "grid_auto_flow": null,
            "grid_auto_rows": null,
            "grid_column": null,
            "grid_gap": null,
            "grid_row": null,
            "grid_template_areas": null,
            "grid_template_columns": null,
            "grid_template_rows": null,
            "height": null,
            "justify_content": null,
            "justify_items": null,
            "left": null,
            "margin": null,
            "max_height": null,
            "max_width": null,
            "min_height": null,
            "min_width": null,
            "object_fit": null,
            "object_position": null,
            "order": null,
            "overflow": null,
            "overflow_x": null,
            "overflow_y": null,
            "padding": null,
            "right": null,
            "top": null,
            "visibility": null,
            "width": null
          }
        },
        "8970cae2bea447579ad1b2e22538483f": {
          "model_module": "@jupyter-widgets/output",
          "model_module_version": "1.0.0",
          "model_name": "OutputModel",
          "state": {
            "_dom_classes": [],
            "_model_module": "@jupyter-widgets/output",
            "_model_module_version": "1.0.0",
            "_model_name": "OutputModel",
            "_view_count": null,
            "_view_module": "@jupyter-widgets/output",
            "_view_module_version": "1.0.0",
            "_view_name": "OutputView",
            "layout": "IPY_MODEL_6d074457bfb74139836a07b3f2ec752a",
            "msg_id": "",
            "outputs": [
              {
                "data": {
                  "text/plain": "Date\n2022-08-01    61300\n2022-08-02    61700\n2022-08-03    61300\n2022-08-04    61500\n2022-08-05    61500\n2022-08-08    60800\n2022-08-09    60000\n2022-08-10    59100\n2022-08-11    59900\n2022-08-12    60200\n2022-08-16    61000\n2022-08-17    60400\n2022-08-18    61500\n2022-08-19    60900\n2022-08-22    60000\n2022-08-23    59100\n2022-08-24    59000\n2022-08-25    59700\n2022-08-26    60500\nName: Close, dtype: int64"
                },
                "metadata": {},
                "output_type": "display_data"
              },
              {
                "name": "stdout",
                "output_type": "stream",
                "text": [
                  "4017    0.958201\n",
                  "348     0.957662\n",
                  "3318    0.950595\n",
                  "5470    0.950405\n",
                  "dtype: float64\n"
                ]
              },
              {
                "data": {
                  "image/png": "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\n",
                  "text/plain": "<Figure size 432x288 with 1 Axes>"
                },
                "metadata": {
                  "needs_background": "light"
                },
                "output_type": "display_data"
              },
              {
                "data": {
                  "text/plain": "Date\n2016-05-19    0.16\n2016-05-20   -0.08\n2016-05-23    1.34\n2016-05-24   -1.17\n2016-05-25    1.89\nName: Change, dtype: float64"
                },
                "metadata": {},
                "output_type": "display_data"
              },
              {
                "name": "stdout",
                "output_type": "stream",
                "text": [
                  "pred: 42.800000000000004 % \n"
                ]
              },
              {
                "data": {
                  "image/png": "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\n",
                  "text/plain": "<Figure size 432x288 with 1 Axes>"
                },
                "metadata": {
                  "needs_background": "light"
                },
                "output_type": "display_data"
              },
              {
                "data": {
                  "text/plain": "Date\n2001-07-13   -3.41\n2001-07-16   -1.76\n2001-07-18    0.30\n2001-07-19    5.67\n2001-07-20   -0.56\nName: Change, dtype: float64"
                },
                "metadata": {},
                "output_type": "display_data"
              },
              {
                "name": "stdout",
                "output_type": "stream",
                "text": [
                  "pred: 4.799999999999995 % \n"
                ]
              },
              {
                "data": {
                  "image/png": "iVBORw0KGgoAAAANSUhEUgAAAXQAAAD4CAYAAAD8Zh1EAAAABHNCSVQICAgIfAhkiAAAAAlwSFlzAAALEgAACxIB0t1+/AAAADh0RVh0U29mdHdhcmUAbWF0cGxvdGxpYiB2ZXJzaW9uMy4yLjIsIGh0dHA6Ly9tYXRwbG90bGliLm9yZy+WH4yJAAAgAElEQVR4nOy9eXiU1d3//zoz2bfJnsBMyMYWSNgSECMICFZRRFttq3Wp3/poW2tbW20fa61tfahVq0/7a+tu+1Rr61JpFRSrVQFFQCEhrAFCEhJCIOtkXydzfn/cmezLJJktk/O6Lq5h7rnn3J9s7zn3ZxVSShQKhUIx+dG52wCFQqFQOAYl6AqFQuElKEFXKBQKL0EJukKhUHgJStAVCoXCS/Bx14Wjo6NlUlKSuy6vUChcyYkTgAXmmNxtiYdgGPc7c3JyqqWUMUO95jZBT0pKYv/+/e66vEKhcCWrVwM1sONhd1viIVw17ncKIUqGe025XBQKhcJLcNsOXaFQTCEeeADY424rvB4l6AqFwvmsWwe0utsKr0e5XBQKhfPJy4O8Indb4fWoHbpCoXA+d9+NCoo6n1F36EKIPwshKoUQR4Z5XQghfi+EOCWEOCSEWOJ4MxUKhUIxGva4XP4CXD7C6+uBWd3/7gCenrhZCoVCoRgrowq6lPJjoHaEU64GXpIae4FwIcQ0RxnoCDra29i1+Y+0Nje62xSFQqFwGo4IihqBM32el3UfG4QQ4g4hxH4hxP6qqioHXNo+Dv3zUVYc/iknXrnPZddUKBQKV+PSLBcp5XNSyiwpZVZMzJCVqw6nq7WBmSdeoEPqSS/7O53lQ4YCFAqFM3n4YXj4Zndb4fU4QtDPAgl9npu6j3kEhW8/QTgNvJz0axplEHWb7wY1pUmhcC3Z2ZCd5m4rvB5HCPoW4JbubJflQL2U8pwD1p04rXVMP/YCn+qyuOWW23kp8BZiavYhD7/hbssUiqnF7t2wO9/dVng99qQtvoJWsztHCFEmhLhNCPEtIcS3uk/ZBhQBp4DngTudZu0YKX/vCUJkEzVL78VHr2P62m9y0JpCx7v3Q7sKkCoULuP+++H+v7rbCq9n1MIiKeUNo7wuge84zCJH0VJLxMEX+A8XsPaSSwHYuDiBO/59B//X+hPY8Qhc9is3G6lQKBSOw2tL/+s/eBx/ayulC+4m2F/73PL30bNsxaW8ZlmN/OwZqDzuZisVCoXCcXinoDdVEpj3J96W2Vy17pJ+L914wQz+oPsarQTCtntVgFShUHgNXinobdufQN/VTv7sO4kNC+j3WniQH1/Ims+vO74Mpz+BI5vdZKVCoVA4Fu8T9IZyfHL/zOaui7lm3aohT/nGRcm80nUJ54PmwPsPqACpQuFsfvc7+N1/udsKr8frBN2y83GQXXw24zbmxIcOec6MqCAuSzdyT8vN0HgOdj7mYisViinGokWwKMXdVng93iXodaWI3Bd5zbKaL11y0Yin/tfKZD5tS+HE9C/C3qdUgFShcCYffAAf5LnbCq/HqwRd7nyMLin4d9TNZKdGjXju4hkRLE2K4Ic1VyP9guHdH6kAqULhLDZtgk2vu9sKr8d7BL2mEJn3d/5muYQvrV6KEGLUt9y+MoWj9X4cnvM9KP4Yjv7LBYYqFAqFc/CeiUU7H6UTH/4R+BXeWjDdrresS4sjOTqYB8uW8q/4BYj3fgqzvgD+IeMyocsq+fmWI3x8snrM750ZG8Kfvp5l1weRwj28vLeEwqomfn7VfHebolAMiXcIetUJ5KHX+T/LlVyzZjG+evtuPHQ6wW0rknngzSMc++KDzH/3Ovj4Mbj0oTGbIKXkl1uP8vLeUtalxRIa4Gv3e8vrWvnoeCWFVc3MjB3fh4nC+fzrwFkOlJr53iWziAj2c7c5CsUgvEPQd/yadl0AL+uvYduyGWN667VLTPzvf07y2+PhvLDoJtjzJCy6CWJmj2mdJ7ef4qU9JdxxcQr3XzG2rnKlNS1c/Jvt7C6sVoLuoUgpKahoxCphx8lKvrjY5G6TFIpBTH4f+vnDcPRfvNB5OZcvnU/YGHbGAIF+em5ansgH+ZUUL/oRjCNA+tq+Uh5//yRfXGzkvsvnjvUrICEyEGN4ILtP1Yz5vQrXUNnYTkObBYAP8ivdbM0k5Nln4VmP6dvntUx+Qd/+a9r0Ifyp6wr+34rkcS1xy4WJ+PnoeC63EdY8AEU74Nibdr33P8cq+Mk/D7NqdgyPXbcAnW7sPnAhBNmpUewpqsFqVZk2nkhBRRMAydHBfHyiig6L1c0WTTLmzIE56q7G2UxuQT+bAyfe4TnLlazMmIUxPHBcy0SH+HPtEhObc8uoTrsR4jPgvZ9Ce9OI79t/upa7/p5LhtHAUzcusdt3PxTZM6Oob+3k2LmGca+hcB4FlVo18e0rU2hst/B58UhjdhWD2LoVtn7ubiu8nskt6Nsfps03nGfbv8DtKydWhXbbimQ6LFZe+uwsXPEENJyFTx4f9vyTFY3c9uJ+pocH8udbl/Z0dBwvF6ZEA7CnULldPJGCyiYMgb58cbERfx8dH+RXuNukycUTT8AT9t31KsbP5BX00r1w6gNesG5kQYqJDJNhQsvNjA1hXVosL+8toTU+CxZ+DXb/EapODjq3vK6Vr//5c/x9dLz0jWVEhfhP6NoA8YYAUmKC2V049pRHhfM5VdHErNgQAv30rJgZzYfHK5CqEE3hYUxeQf9oE23+UfyxeQ23Xzw+3/lAbl+ZQm1zB5tzy+DSX4LOBz5/rt85dS0d3PLnz2lqs/DiN5aREBnkkGsDZKdG8XlxLZ1dyj/rSUgpOVnZyKw4LQNpbVocZ2pbKagc2SWnULiaySnoRTvh9Cf8RXctptgoVs+Odciyy5IjWWAy8KddxViDYiBpBRRt73m9taOL217cT2lNC8/dkkXatDCHXNdGdmo0zR1dHCqrd+i6iolR09xBXUsnM2O1Zm9r07TfN+V2UXgak0/QpYTtv6I9KJ7fmrO5fWXyuDJLhkIIwe0rUyiubtb+WFPXQM0pqDuDpcvKd1/JJbfUzP93/SIuHKVXzHhYnqKtuUe5XTwKW4bL7O4delxYABlGAx+q9EWFhzH5BP3Uh3DmM14N+AqhIaFcvcjo0OXXp8djDA/k+U+KIGUNALLwI+7/12E+yK/koavTWZ8xzaHXtBEZ7EfatDB2q8CoR3GqO8NlVmxvO+a1abHklpqpaWp3l1mTi7/+Ff76A3db4fVMPkFvNdMas5BN5Vl8/cJEAnz1Dl3eR6/jGyuS2XfazIG2eAiJ58Turby+v4zvXTKTm5cnOvR6A7koNYr9JWbaOruceh2F/RRUNhHq70NcWG/we11anHazeKLKjZZNIhISICHG3VZ4PZNP0Bd8mQdjfo/e14+bnCSuX12aQGiADy/sOk1haBYx1Xv52lIjP7h0bO0AxkP2zCg6LFZyS8xOv5bCPgoqmpgZF9Kvcdr86WHEhwXwwTHlR7eL116D1z5xtxVez6QT9MqGNt46eI6vZCU4rUFSiL8PN16QyLYj53iyNIEo0chDF0iXdEJcmhSJXieU28WDKKjUUhb7IoTgkrRYPimoot2i7qZG5emn4el33W2F1zPpBP3lvSV0Wq184yLHpCoOx63ZSfjpdTROXwGAz+kdTr2ejdAAXxaYDCof3UMwN3dQ3dTez39u49K0OJo7uthbpKpGFZ7BpBP02y9O4dmbMkmKDnbqdeINAXx4zyr+cMd6iJ0HhdtHf5ODyE6N4mBZPU3tFpddUzE0p6q0DJeZcYO7YF6YGkWgr54PVfqiwkOYdIIeGuDLF+bHu+RapoggLeiaskarTO1sdcl1s1Oj6bJK9ql+IW7HlrI40OUCEOCrZ8WsaD7Mr1RVowqPYNIJultIXQNd7VCy2yWXy0yMwE+vU24XD6CgspEgPz3TDUM3fluXFsvZulaOn290sWUKxWCUoNtDYjbo/fpVjTqTAF89SxLDVWDUAyioaGJmbMiwxWtr5mpVo8rtMgpvvAFv3OduK7weJej24BcMCRdA4Q6XXTI7NZpj5xowN3e47JqKwRRUNo44RSo2NICFCeFq6MVoREdDtGNbZSgGowTdXlJWQ8VhaHLNH+5FM6OQEj4rVrt0d1Hf2klFw9AZLn1ZNzeWvDN1VDa2uciySchf/gJ/+dDdVng9StDtJVVrA0DRTpdcboEpnCA/PZ+qsXRu41Tl8AHRvqxNiwNg+3G1Sx8WJeguwS5BF0JcLoQ4IYQ4JYQY5AgTQswQQmwXQhwQQhwSQlzheFPdzLRFEBDuMj+6r17HsuRIFRh1I7YeLrPjRt6hp00LZbohQLldFG5nVEEXQuiBJ4H1wDzgBiHEvAGnPQC8LqVcDFwPPOVoQ92OTg8pq7R8dBelqGWnRlFY1UxFg7qVdwcFFU0E+OowRow82lAIwbp5cewqqFY9eBRuxZ4d+jLglJSySErZAbwKXD3gHAnYIh4GoNxxJnoQKWugsRyqB08xcgbZqWosnTspqGwiNSYEvR3tmdemxdHa2aV+Vgq3Yo+gG4EzfZ6XdR/ryy+Am4QQZcA24LtDLSSEuEMIsV8Isb+qahJ2qbP50V1UNZo2LQxDoK9yu7iJU0P0cBmO5SmRBPvp1dALhVtxVFD0BuAvUkoTcAXwVyHEoLWllM9JKbOklFkxMZOwlWZEEkQku8yPrtcJlqdEqnx0N9DUbuFsXSuzRvGf2/D30bNyVgwfHVdVo0OybRts+7m7rfB67BH0s0BCn+em7mN9uQ14HUBKuQcIAKIdYaDHkboGTu+Crk6XXC47NZoycytnaltccj2FRmF3hstIOegDWZsWy7n6No6WNzjLrMlLUBAETXyYumJk7BH0fcAsIUSyEMIPLei5ZcA5pcBaACFEGpqgT0Kfih2krIGOJijb55LLZXePulNuF9dSYGfKYl/WzI1FCDVrdEieegqe2uZuK7yeUQVdSmkB7gLeA/LRslmOCiEeEkJs7D7tHuB2IcRB4BXgVumt953JF4PQucyPPjM2hJhQf+V2cTEFlY346XXMiAyy+z3RIf4sTghXs0aH4vXX4fVd7rbC6/Gx5yQp5Ta0YGffYw/2+f8x4CLHmuahBIbD9CWaH/2Snzr9ckIIslOj2F1Yg5SuGbKhgFMVTaTEBOOjH1uYaW1aHL957wQVDW3EhQU4yTqFYmhUpeh4SF0DZ3Ogtc4ll8tOjaKqsZ3C7t7cCudTUNk0Jv+5jXXdVaNql65wB0rQx0PKGpBWOO2aGYm2fHTVBsA1tHZ0ccbcMmoPl6GYHRdCQmSg6r6ocAtK0MeDaSn4BrvMj54QGYQpIlAFRl1EYVUTUsKsIaYUjYYQgrVz49h1qprWDlU1qnAtStDHg48fJK1wWT46aG6XvUW1dFm9M9bsSdjblGs41qXF0W6x8ukp9QHcw44dsONhd1vh9ShBHy+pa6C2CMwlLrlcdmo09a2d5J9TOc4DKa5uxurAD7qTFY346ASJUeObW7ssOZJQfx8+PK7cLgrXogR9vKTY2um6Zpd+ocpHH5LSmhbWPrGDf+ScGf1kOymobCI5Ohg/n/H9efj56Lh4dgwf5Fc69INmUvP44/D4v9xthdejBH28xMyB0Gku86PHhQWQGhOs8tEH8PnpWqwS3j1y3mFrnqpsGpf/vC9r02Kpamzn8Nl6B1k1yXn7bXjbNcV4Uxkl6ONFCG2XXrwTrK4JfmWnRvN5cS2dXVaXXG8ykFNiBmB3YQ0tHZYJr9fW2UVJTTMzx5Hh0pc1c2LRCTVrVOFalKBPhNQ10GqGcwddcrmLZkbR0tHFoTLX5L+7nLZ6qDg2prfklpiJDPajw2Llk4KJu6OKq5uxyvEHRG1EBPuRmRihhl4oXIoS9ImQslp7dJEf/YLkKISA3d6Sj261agVaO38Df74cHk2Gpy+E4/b1/Khv7eRkZSM3XTCD0AAfPjg28d1wTw+XCbpcQKsaPXaugfK61gmvpVDYgxL0iRASC3HpLvOjRwT7MW9a2OT2ozeeh7y/wxu3wW9S4flLYPsm6GyFFXdD7Hx4+25oqR11qbwzdUgJF6REsXpOLNtPTDwIeaqiEZ2A5OjxZbj0padqVM0ahcBACPRztxVej129XBQjkLIaPn8OOlrAz/5GTuMlOzWKF/eU0NbZRYCv3unXmzCWdijdC6c+gMKPoOKIdjw4FmZ9AWau01xXwd3dluddA8+vgW0/guv+NOLSOSVmdAIWJoRT3dTO1oPl5JXVsWRGxLjNLahsIikqGH+fiX9vU2OCSYoK4sP8Cm5enjjh9SY1774LbHW3FV6P2qFPlNQ10NUBJbtdcrns1Gg6LNaeYKDHcjYH/vYVeDQJXtoIe5+CwAhY+3P45sdwzwn40rOw4Mu9Yg4wbQFc/GM48gYce2vESxwoNTMnPowQfx9Wz45FrxMTDkKOt4fLUAghWJsWx+7CGlU1qnAJStAnyoxs0Pu5zI++NDkSvU54fj763qe1XjeLvgbXvwL/fRpufRtW/hCmLQTdCL96tnPe/iE0D/11dlklB0rryEwMB8AQ5EtWYsSEmmJ1WKycrm52iP/cxvKUKDosVo6dm+Lpi//zP/A/r7rbCq9HCfpE8QuCGctd5kcP8fdhocng+X702iKt582VT8DcK8B/DGmAel+45hlob4C3fwBDtNY/WdFIU7uFzMRe98ql8+I4fr6RMvP4pjuV1DRjscpxNeUajgUmAwCHy6a4oH/4IXx4yN1WeD1K0B1ByhqoPAqNrsk5zk6N5lBZPY1trhmDNy5qiyAyefzvj5sHq38C+Vvg6D8HvWxzOWXOiOw5tnaCrWsLxjF2bjTiwgKICfXnkCowUrgAJeiOILW7DUDxTpdcLjs1ii6rZN/p0TNB3EJrnZafH5kysXWyvwfGTHjnnkEflrklZqJD/EmIDOw5lhwdTEpM8LhHwBVUNCEEpMY4TtABMowGjihBV7gAJeiOIH4hBEa6zO2yJDECPx+d5+ajm4u1x4gJ7NAB9D6a66WjZZDrJafUTGZi+KAJTuvS4thbVDPy3UtXJ3zyBJz+tN/hgspGEiKCCPRzbPZQhtHAqcomh1SyKhQjoQTdEeh0kLJKC4y6YJRqgK+erMQIz/Wj1xZpjxPdoQPEzIa1P4MT78Ch1wCobmqnpKZlyPTEtXNj6eySw1eNttTCy1+CDx+CD37e76VTlU3MdmBA1EaG0YBVwrHyKdwpMyoKohwXm1AMjRJ0R5GyBhrPQdUJl1wuOzWKY+caqG3ucMn1xkStbYee5Jj1lt8JCcvh3R9DQzm5Nv954mBBz0yMwBDoO7TbpboAXlir5cUnXwxl+6DhHACWLitFVRPv4TIUGbbA6FR2u2zeDJt/4m4rvB4l6I4i1bXtdJenaO1093uiH91crBUO+Ttot6vTwzVPgaUDtn6fnJJafPWCdKNh0Kk+eh1r5sSw40RV/2EghR/B82uhrQG+/jasf0w7fuIdAEpqW+josk64h8tQxIUFEBvqrzJdFE5HCbqjCJ8Bkaku86OnGw346gU5pR5YYFRb7Bh3S1+iUuHSX0LB+xiOv0a60TBspezatDhqmzs4YPvefP48vHwdGExwx3aYcQHEzNV+XvlvA1pAFBzTw2UoMoyGqb1D/8lP4CcvutsKr0cJuiNJXQOnd2k7SScT4Ksn3WjocT94FLXFE0tZHI6lt2OdcRE31z/Lmrj2YU9bNScGH53go6PlWobMtnu1NgO3vad98ILW/jhtg1b81GrmVGUj4PgMFxsZJgOnqppobp+igdE9e2CPa9yRUxkl6I4kZQ10Nmu+WReQOSOCg2X1dFg8qD96Zys0lk88w2UodDryl/0aHVa+VvGbYQPQYQG+rEnyZV3unbDvBbjo+3D93wYXN829CqwWOPk+BZVNGMMDCfZ3TnujDKMBKeGYGiGocCJK0B1J8koQejj1H5dcLjMxorus3INEwnxae3S0y6WbPeZQHrbcSHTlbsj5v6FPqj7F43X3kG45QvW638KlD2l++IEYM7WpU8e3UlAx8SlFI5FhVBWjCuejBN2RBBggaQXs+i08t0bz3drRBna8LOnO8vCoRl22DBdnuFyAA6V17AjZoHW5fO+B3g8QG0U74IVLCLE28rWOn/IWa4ZfTKeDuVciCz7gbFWNUwKiNmLDAogL85/afnSF01GC7mi+/Be47GGteGXbvfD4bHjtJm1oQ5djS/XjwgIwhgd6lh/dkTnoA5BSsr+klsykSNj4RxA6eOsubVAGwL4/wV+/BKHT0X9zO/UxWaN3X5y7AWFp5QJrnkN7uAxFhjF86gq6yQSmKHdb4fWofuiOJigSLvyO9u/8Ych7BQ6/DvlbISgaMr4Mi26A+AVaYG6CZCZG8FlxDVLKQVWTbsFcDP4GrVWugymvb6OioV3LPw9PgMsfhi3fhc+e0a77+XMw6zK49gUICGNtWhsvfFJEQ1snYQG+Qy+atIJOPwOXde0nOe77Dre5LxlGAx8er6Cp3UKIk3z1HsvLL6P6oTsftUN3JvEZmuj8MB9ueA2SLoL9f4JnL4anL4Ldf5hwQ6/MxAgqGtopr29zkNETpLYYIpMc8mE1kJyBBUWLb4aZl8J7P9HE/MK74IZXICAMgHVpsViskp0nqoZfVO9LUcQK1upymRnl73Cb+5JhCtMCo1O5YlThVJSguwK9L8y5HL7ykjbY4conwDcQ3n8A/jcN/vZlOPn+uJbO9DQ/em2R0wKiuSVmAn31zI3vdo0IARt/r1WRbvwjXParfsHPxTMiiAz2G9Xtstt3OeGimbCKz51itw1bIdSUdLvcfTfc/by7rfB67BJ0IcTlQogTQohTQoj7hjnnK0KIY0KIo0KIvzvWTC8iKBKW/hfc/iF8Z5+WUldxFP7+ZTg49gEAc+NDCfTVe4YfvcsC9Weck7KI9qG1KCEcH32fX9uw6Vp++ZKbB52v1wlWz4lh+4kqLF3Dp3a+0zqPduHfU2TkLGJDA4gPC+BwWZ1Tr+OR5OVBXrG7rfB6RhV0IYQeeBJYD8wDbhBCzBtwzizgJ8BFUsr5wN1OsNX7iJkN634O3zug9RZ56zva7M0x4KPXsTDBQK4nVIzWn9Hyup2wQ2/psHDsXANLuicU2cu6tDjqWzuHvYOxWiXHqiwUGZbD8Xd6A6xOIsM0xStGFU7Fnh36MuCUlLJIStkBvApcPeCc24EnpZRmACmlGnM+Fnz84at/g5g0eO0WOJs7prdnJkZwtLzB/e1ZezJcHL9DP1RWT5dVDtmQayQunh2Dn143bI/08vpWWjq6qEu8TCuIKh/b936sZBgNFFU30zRVK0YVTsUeQTcCZ/o8L+s+1pfZwGwhxKdCiL1CiMuHWkgIcYcQYr8QYn9V1QiBqqlIQBjc9AYERWk+9ZpCu9+amRhBl1VyyN1FK47qgz4Eth324oSxCXqIvw8XpEQOO8XINqUoYN4VoPPRspGciK1i9KjapSucgKOCoj7ALGA1cAPwvBBi0L2xlPI5KWWWlDIrJibGQZf2IkLj4eZ/grTCy9dCk303OjaRc3tgtLYYfAK06ksHk1tiJjUmmIhgvzG/d11aHEXVzRRVNQ167VR3U67kBKNWFHb8baf2tJ+ygdHZs2H2dHdb4fXYI+hngYQ+z03dx/pSBmyRUnZKKYuBk2gCrxgr0bPgxn9AU4W2U29vHPUtEcF+pMYEuz8wWlus9UDXOTZ5SkrZPaFofLnta9NigaFnjRZUNhIT6k94kB/M3QA1p5za0z4m1J9phoCpJ+jPPQfP3eVuKxyLlFBz3t1W9MOev7x9wCwhRLIQwg+4Htgy4Jw30XbnCCGi0VwwRQ60c2phytIqTs8fhtdvsat7Y2ZiBLmlZqQLJiYNi7nYKe6Woupm6lo6xy3opogg5saHDulHP1nR1FvyP/dK7fG4890uU07QvZGcj+AP98KZU+62pIdRBV1KaQHuAt4D8oHXpZRHhRAPCSE2dp/2HlAjhDgGbAd+JKX00Plok4TZl2k51oUfadkvo2RfLJkRgbmlk+LqZhcZOAApndMHnV5X0lAj5+xlbVos+0vM1Lf0tl+QUnKqso+gh00H01Knpy9mGA0UVTWPPPfU27jjDrjjj+62wnFYLPBx97421zUzEOzBrntjKeU2KeVsKWWqlPJX3ccelFJu6f6/lFL+UEo5T0qZIaUce0K1YjCLb4JLfqa1Dhgw/3Igbi8wajwPllanZLgcKDUTFuAzoV7la9Pi6LJKdpzsdbucb2ijqd3CzLg+PVzmboBzeVB3ZohVHINtJN3RqVQxevIknCx3txWO4+An0FADMUY4+hm0e0altqoU9XRW3gNLb4fdv4c9Tw57WmpMCGEBPu7LRzc7r8tiTomZJYkR6HTjbyewyBROdIgfH/Txo/dMKerbZTHtKu3xuIN26XVnYO8z/QKtqpXuJKfLAp9sgekpsOEb0NGmiboHoATd0xEC1j8KaRvhvfvh8BtDnqbTCZYkRrhvh27LQXewD72+tZOTFU1kTsDdAtr3Z82cWHacqKSzu2rUlrLYT9CjUrV6AEe4Xbos8I9b4d//DdUney8R4s/0qRgY9RYO74a6Klh1DcyYDVHT4MBOd1sFKEGfHOj08KXnIfEi+Ne3tJ7fQ5A5I4KTFU3Ut7rBN1tbrA33sI14cxC2uaDjDYj2Zd28OBrbLOwr1nrUn6psJDLYj6iQAU250jZA6W5orp7YBff8Ac7u1/5ftr/fSxkmA0emkKC3dVo5WQHHPSspZOxYrZrvPD4RZi/WNlyLV8GZk1DlfpeSEvTJgm8AXP93La3x1Zvg3KFBp9hE74A73C7mYq2lrX6YNrXjJLfEjE7AwoSxlfwPxcpZ0fj56HrcLgUVTcwcaqjF3A1aLcCJd8d/sYpjsP1hzYXjH9Yr7N3YKkYbpkhg9EzibHYFpzABr5lncGQv1J6Hi6/p7Si6cIXWmz/vY/fahhL0yUVgONz4hjYZ6W/XDZrWszAhHJ2A3FI3NH+qLXJOhWipmbRpYQ6Z9Rnk50N2ahQfHq9ASklB3wyXvkxbCIYZ4/ejd3XCm9/WhHzD72D64iF26NoH1NGzUyMw+n9f/j6/3XA7M8nTBv0AACAASURBVCdzPaHVCh+/CbEmmJvZezw0HGYvgrxPNDebG1GCPtkwGOGmzWBp16bztPbuxoP9fZgbH+aeAqPaYocHRLuskrzSugmlKw5kbVocJTUt7Cmqob61c2hBF0JzuxRut6uwaxC7fqtlymz4XwiO1uoKKo5CR0vPKT2B0bNTo/NibomZJTMcWHMmJbS1QHU5nD6u7Zz3vgcfvAZvPQ/Hcxx0oT7k79Oud/E1g7+QxauguR4KDjr+umNgio1N8RJi58INr8JfroR374MvPdvzUmZiBP/MLaPLKtG76v62pRba6hyeg37ifCPNHV0O8Z/bWDs3lp8Bz+zUgriz44YZOzd3A+x9Sut+Of+L9l/g3CHY+SikXwfzunvYmZaC7NJEPjEbgMhgP4zhgRyeAjv0hrZOvv3CgywzVML8tWN7s5TQ2gRN9dq/5u7HpjqwDOGuEjrw9YODu+C/fgHTHbTJsFrh47e0AOi8ZYNfn7UQgg1acLTv7t3FKEGfrCReCBffq4nHvI09VY6ZiRH8dW8JJ843Mm96mGtscVJTrhwHBkRtTA8PZN60MD4+qTWHmxk3TG77jOXayMD8rfYLuqVDc7UERcEVv+k9bszSHsv29wg6dFeMToHe6HmldcxpLGFa0xl4d2DXEHsQEBQKIQbt34y47v+HQ3CY9mh7HhgMbc3w9P2w+Un45ibwC5j4F3EiFypK4YvfGvo2Q+8Di1bC7m3QWKe5YdyAEvTJzMp74cQ22Pp9bWpPcFRvgVGp2XWCXmvLQXfsDj23xExMqD+miECHrrsuLZZj5xowBPoSMzDDxYZOD3PWw9E3NfeWjx3j6T7+DVQcgetf0QaZ2AiJ0bJ/BgZGTQb+ffT8yDNPvYCcEjPX0q49+f5vxy6wAYGaYNpLUKgmvC89Av9+GTb+19iuNxApNd95RCykXzj8eYsuhk/f1u4OVmyY2DXHifKhT2Z8/OCap6G1Dt79EQCmiEBiQv1d60e3CXpEkkOXzSkxkzkjwuHDr9emxQFa/vmIa6ddBR2NUGxH9sLZXPjkCVh4A8y9YvDrxiwo6+/XtfnRvT19MbfUTKi+A3x8ICIGgkPH9m8sYm4jZb4mqrk74OgERwsW5MG507DyatDrhz8vZjokzNbcLm7qqaQEfbITnwGr/huObIajbyKEYMmMcNdWjJqLISQe/IIctmRlYxultS0OdbfYyDAaSIwKYtFoqZDJq8AvZPQe6ZZ2zdUSEguXPzL0OaYsaCiDhnP97ADvrhjtskoOlNYRRDv4OncI9yDWXKtVc259AerH2VpKStj5JhiiYeFFo5+/eBXUnIMzBeO73gRRgu4NrPgBTFsE7/wQmqrITIygpKaFqsZ211zfCU25cks03/JYR87Zg04neOd7K/nx5XNHPtE3AGZdqrm1rF3Dn7f9Yag6rg2qDhzGXtNS7bGP2yWiJzDqvYJeUNlIS3sHvsYuWDBwLo6T0fvAtXdCVxf88+nxjRcsOgJnC2HlVfbdKcy/QPvgclPlqBJ0b0DvA198Rkuxe+cHZM7QRMVlu/TaIoenLB4oNeOn1zF/usGh69oI8ffBz8eOX/+0q6C5Cs4Mc9t+Zp/WZ2fJLTBr3fDrxC8Ane+gfPQFXj5jNKfEzAxRgW6tL9w3hCvK2UTFw5Vfh5LjsGuMbZGlhJ3/grBIzT9uD/4BkL5cS6Nsbx27vRNECbq3EJsGa34K+VvJqPsQP73ONX70jhZoOu9wQc8pMZNuDCPAdwSfpSuYeSno/YYuMups1VwtYUb4wq9GXsc3AOLT4Wx/P3q60UBJTUu/tr7eRE6JmczA7j70MSb3GLFwpSay2zdD2Rh6l5/Oh9KTcNEG8BlD0HrxKuhsn7jvfhwoQfcmsr8LpqX4/ftHrIy3uKZRl61a1YEpi+2WLg6drXeK/3zMBIRBymrI3zI40PXRJqgpgI1/0M4bDWMWlB/o575Z0N1K90i5d+7Sc0vMrAyvhtdb4LuvuMcIIeDK/6fttDc/pRUk2cPON7VUyCWrx3a9hFkQPR0O7BirpRNGCbo3odNrWS+WNv676xkOna2jwzIOv+FYsHVZdOAO/Wh5Ax0Wq2cIOmhFRnWl2gQpGyV7tHbGWbdB6hr71jFlQUeT5m/vJn26984YrW5q53RNC+k+Z6HDD8x2CqkzCAzW/Ol1VbDtpdHPLzkBp4/BRVdqhUpjQQhYfLEWGHVxwy4l6N5G9CxY+yCz63axwbqTo87e+Zkdn4Oe64AJRQ5lzhVaBaLN7dLRrLlawmfApQ/Zv44tMFq2r+dQRLAfCZHeGRi1/Rynd54GX8dlQI2bGbNh1Rfh0C449OnI5378JgSFQeYl47vWwpXa74yLg6NK0L2RC75Nh3E5v/B9ifwTx0c/fyLUFkFAOAQ6TnxzSsyYIgKJDXNAhZ8jCInRCrdsPdI/+KX2QXbNU+A/hilKkSna92lgoy6jwStTF3NKzQTorQQ2FDs0pXVCrLxayxV/+/+gdvDQcEDzsxcehuwrwG+cqZYhBq297sFdLm3YpQTdG9Hp8Lv2aXxFFwsPPOjcIgcHN+WSUpJbavYcd4uNtA1QeRRyXoTPn4ULvgVJK8a2hhBgzBwyMFpa632B0QMldayLa0Z0dYBvsLvN0dDrNdeL0GmpjF1DpKPufBMCQ2DpGPvODGSJ6xt2KUH3ViJTeDvuW8xv+RyZa4fPcLyYHZuDfraulYqGds8T9Lndpdxbv699vWtHnvE6LMYsqMzv18VxgVFLM/Umt0uHxcrBsjpWR3QX9KxZDWsXuNWmHsKjYcP/g7ICzbXSl/JirTL0wvXgP8GWEzMXajt1F7pdlKB7Ma0Lb2V31zzke/drQT1H09Wpzcx0YIZLjqf5z21EJGq55KAFnsfrQjBlAVLLdukm3ahlyHiToB8710C7xcpC/3OAgF89Dj+73t1m9ZJxodZM6+M3tRx1Gx+/BQFBsOzSiV9Dr9d86SfzoNE1NSFK0L2YJYlR/NjyTaxWK7x1l+NdL3WlWltYBwdEg/z0zI0fpq2tO1n/KFz7gtaJcbwYu1ur9gmMhgf5MSMyyKt6utg+mBMsJdqHoaf40Puy/hat4dbmp6G1Gc6XwvH9cMFlmqg7gsUXa9OvDo4ShHUQStC9mLnxodT6xrNt2l1QvBP2/8mxF+jJcHHgDr3UzKKEcHz0HvirmZgNGddNbI2gSIhMHbJR1yEvGnaRW2LGGB5IgLlAG7q9fj2s/4W7zeqPf6DmT2+qg7f/rO3W/QI0QXcU0dO17JoDO1zSsMsD/2oUjsJHr2OhKZznmy+G1Evg/Qd7OyM6glrH9kFvbreQf67R8/znjsaUpfV06fMHnm40cKa2lbqWDjca5jhySswsmxGiFV7FzoXWVmj1wK/NmAqXXAdHP4Njn2uulqAxZC7Zw+LVUHNeqzp1MkrQvZzMxAiOnW+kdf3vtMKjt+4aX5OioagtBp9ACI13yHJ5Z+roskrP8587GmMWNFVAfVnPIVvFqDf40cvrWjnf0Mbq6AawWrQduieTfSUkz9N25xeud/z685Zpa7sgOKoE3cvJTIzQZnPWh2itXUt2waHXHLO4uTtl0QH9yqWU/P7DAgyBvmQlebmgm7r96H06L3pTxajNf7444Lx2IHaUrpbuRqeDG38Mdz2mTUByNLaGXUc/c3rDLiXoXs7ivp0XF31NG0Jx7M2R32QvtUUOc7dsOVjOZ8W1/PjyOYR68fQeAOIyQO/fr8DIEORLYlSQVxQY5ZSYCfTVY+os0fK9o2e726TR8fHRer04i56GXZ857xooQfd6woP8mBkbou2ahIDZl0PRjn4T6MeF1ao15nJAQLShrZNN7+Sz0GTg+qUzJryex+PjB9MWDqoYTTd6Ryvd3FIzCxMM6KqPaxsI30DYsAE2LHW3ae7DNFMLkOY61+2iBH0KYJtgJKXUBN3SpmW9TITGc9o6DhD03/2ngOqmdh66Oh29zrHj5jwWUxacy9Ny+btZYDRQZm7F3OyBwUM7aemwcLS8QQtsVx2H2HnaC/feC/faOWzbGxFC26WXFUDVeAZl24cS9ClAZmIEdS2dFFU3Q+JF4BcKJ/89sUUd1JQr/1wDL+45zQ3LZrBwtJFw3oQxU/tArDjac6hnJN0k3qUfKqunyyrJMgVDTSHEeLj/3JUsXKElJjgxOKoEfQpgSwPMKTFrt/szL4GT700sL9YBKYtSSh586whhAT786Atzxm/LZMSUpT32CYzO9wJB76n0Da7Ris5iuzNcVq+G1fe7zzBPIMQAsxd1N+xyTt8euwRdCHG5EOKEEOKUEOK+Ec67VgghhRBZjjNRMVFSokMwBPr2TjCavV5zmZzLG/+itUWg8wFDwriX+GfuWfadNnPf+rlEBI+x5/RkJzwRgqL7FRgZAn1JmuSB0QOlZlJjgjE0dk8GUjv0/ixeDc0N2obKCYwq6EIIPfAksB6YB9wghJg3xHmhwPcB54ZxFWNGpxMsmRHeO8Fo1qWAmNgvlblY6wduz+DcIahv7eTX7+azKCGcL2eO/0Nh0iKE1h+9TwsAmNyBUSklOSVmrY6g6jgIvdafX9HLzAWQttS+CVfjwJ4d+jLglJSySErZAbwKXD3Eef8DPAq0OdA+hYPITIygoLJJa9EaHA0Jy+DEu+NfsLZ4Qu6W3/7nJLXNHWy6Jh3dVAmEDsSUqVVStvY2blpgMnC2rpXaSRgYLa5uxtzSqbn4KvO1+IrPOPuJeyt6PXz1+5Bs59DpMWKPoBuBM32el3Uf60EIsQRIkFK+M9JCQog7hBD7hRD7q6qqxmysYvzYqi9zz9jcLpdpLpeGc2NfTMruPujjC4geLa/npT2nuWl5IundfuMpidHmR8/tOZQ+if3otjvAHkH39IIiL2TCQVEhhA74X+Ce0c6VUj4npcySUmbFxMRM9NKKMbAwIRydgAN9/egABeNwu7Saob1+XCmLVqvkZ28eISLIj3sunWKB0IEYlwCi38ALm6BPxs6LuaVmwgJ8SI3w0VxyfUv+v/IV+MoYB4Ioxow9gn4W6OvkNHUfsxEKpAM7hBCngeXAFhUY9SyC/X1ImxZGTmm3oMemaT7wE+NIX5xAhssbuWXkltZx3/q5GIK8vCJ0NAIMWhVlnwKjsABfkqODOVQ2+Tov5pSYWZIYga6mQGsZ23eHfuedcOcV7jNuimCPoO8DZgkhkoUQfsD1wBbbi1LKeilltJQySUqZBOwFNkop9w+9nMJdZCZGkFdah6XL2r9qtHOM/SVqi7THMbpc6ls6eeTd42QmRnDtEtPYrumt2AKjAzovHjnb4Eajxk59aycnK5rItAVEobeoCKClBVra3WPcFGJUQZdSWoC7gPeAfOB1KeVRIcRDQoiNzjZQ4TgyEyNo7ujiREX3+LPZl4OlFYo/HttCtqKiiMQxve3x909Q19LB/1w9hQOhAzFlQmtt7/cUrWL0bF0rNU2TRwDzzmh3FEts/nOdj9b33cYVV8AVv3STdVMHu3zoUsptUsrZUspUKeWvuo89KKXcMsS5q9Xu3DPpCYza/OhJK8AvZOzZLrVFEDpd69FhJ4fL6nn5sxJuuTCJedOdk7I1KbEFRssG+9EnU2A0p8SMTmixGqqOQ9RMrYhN4VJUpegUwhQRSGSwH4dshSs+/pC6ZuxVo2PMcLFaJQ+8dYSoYH9+cOkk6LznSmLngW9Q/1a63TNGJ1NgNLfEzNz4MEL8fbQduioocgtK0KcQQggyBhauzF4PjeVw/pD9C5mLITLJ7tNf33+Gg2fquP+KuRgCp3ggdCB6H5i2qF9gNDTAl5To4N4PXg+nyyo5UGrW0hU7WrQunLEePtTCS1GCPsXIMBooqGyirbNLOzDrC4CwP9ulvUmbtmPnDt3c3MGj/z7OsqRIvrjYOPobpiKmTO0D1dLrM9cCo5ND0E+cb6S5o0sT9OqTgFQ7dDehBH2KkW400GWVHDvXnUUREqM1irK3+6L5tPZoZ8riY++doKHNwkPXzEc4YLKRV2JaCl0dcP5wz6EFJgPl9W1UT4LAqC0VtqegCAbv0G+9FW5d61rDpiBK0KcYttmV/XZ/sy+H8lxoPD/6Aj1tc0cX9Lwzdby6r5Rbs5OYG68CocPSExjt60efPIHR3BIz0SH+mCICoSofdL6D7+CUoLsEJehTjGmGAKL6BkZBE3Swr1mXLQd9lB16l1VrjRsT4s/d61SDphExGCF0Wv9WutPDEAKOTAI/em6pmczEcO0OrPK4ViylHxArqa6G6smVWz8ZUYI+xRBCkGEa4J+Nm6+1wbVL0IshMBICRx5G8Y/9ZzhUVs9Pr0zz/hmhjsCYOSgwmhwdzCEP36FXNbZTUtPS03OfqmF6uFx3HVz3iGuNm4IoQZ+CZBgNnKxopLWjOzDaUzW6HTpHaZZZW2SXu+Wdw+eYGRvCxoXTHWDxFMCUpbmzmmt6DmVMgsBobl//eXsT1JX27+GicClK0KcgGUYDVklvYBQ0Qe9sGb1q1Dx6DrrVKskrrWNZcqQKhNqLqXuAch+3S4bRwLn6NqoaPTcwmltixk+vY/50A1Sf0A6qLotuQwn6FCSjOzB6uG8DqKQV4Bs8craLpQPqy0b1nxdUNtHYbtH6eijsY9oiELp+bpeMSdB5MafETLoxjABfveY/B7VDdyNK0Kcg8WEBRIf4cbhvAyjfgNGrRutKtS56o+zQ+/XFVtiHf4hWNTpgxqgQnpvp0m7p4tDZ+p6WElTlg95/XG2VFY5BCfoUxFYxOmjnN/tyaCjrlw/dDztTFnNKzEQF+5EYFeQAa6cQxkytN7rVCkCIv49HV4weLW+gw2Lt/eC2Zbjo9INP/va34dvrXWvgFEQJ+hRFqxhtpKXD0ntw9mXa43DZLnb2Qc8t1fpiK//5GDFlQVs91Bb2HPLkwKityduSngyX48P7z7/6VfjqShdZNnVRgj5FyTCFY5WQ3zcwGhKr7RJPDtN9sbZI87OHxA67bk1TO8XVzcrdMh5sgdE+g6MzTOGcb2ijstHzRvXmlpoxRQQSFxYAbQ1Qf2b4kv8zZ+CMGjvpbJSgT1FsAbdBt/Oz12u3/Y0Vg99kLtbcLSPsvA+UdvfFVgHRsRM9G/xCJ0VgVEpJTom5T/65LcNl3tBvuPlmuPm3rjFuCqMEfYoSF+ZPTKj/4IDbnO6q0YL3B7+ptnh0/3mpGR+d6GkxoBgDOj0YFw9ZMeppfvSzda1UNLT3LygClbLoZpSgT1GGDYzGpUOYaXD6otWqNeYaxX+eU2JmvtGgpbEpxo4xCyqO9owFDPb3ITUmxON26LZMpp47scrj4BMI4UnuM0qhBH0qk240cKqyqX9gVAgtOFr4Uf+q0cZy6GofcYfe2WXl4Jk6lX8+EUxZYLXAuYM9hwb1sPcAckvMBPrqmRsfqh2oyoeY2aBTkuJO1Hd/CrPAVjFaPqBp0pz1WtXo6V29x+wYDH2svIH2vmlsirHT03mxT2DUaKCioZ3KBs8JjOaW1rEoIRwffbeEVB5XBUUegBL0KYytYnSQfzZppTYWrW+2ix0piz234YkjN+5SjEBoHBhm9A+MmjyrlW5Lh4Vj5xp6P7hb67Q7uJH85/fcA/dc4xoDpzBK0KcwcWEBxIb6D/bP+gZAyhptipGtatRcrPW5NpiGXS+31Mx0QwDTDPYPj1YMgam7wKibedPC0HlQYPTgmXq6rHJwhstIO/SrroKrljnfuCmOEvQpTobRMHSL1jndVaMVR7XntUUQkTh0FWA3uSXm3iITxfgxZmk53d2po54WGM0pqQVg8YzuOzF7MlxOnIATZU62TKEEfYqTbjRQWNVEc7ul/wuzvqA92twutcUjulvK61opr29T/nNHYCswOvNZzyFPCozuKaphbnwo4UF+2oHKfM1FZ5gx/Ju++U345lOuMXAKowR9irPAZEAObKULEBoP05f0ul3Mp0cMiPbri62YGNMXawLZp5VxhslAZWM7FW4OjLZ1drH/tJns1Ojeg5X5WoWoynBxO+onMMUZtmIUtGZdZ3O0Hh3tDSOmLOaUmAnw1ZE2Tc0OnTA+fpCYDcU7ew7Zfk6H3exHP1BaR7vFSnZqVO/BquODh0Ir3IIS9ClObFgAcWFDBEahu2pUwmfPas9HcLnklphZaArHV69+pRxC8iqoPgkN5QDMm94dGHWz22VPYTU6ActSIrUDLbXQVDF8DxeFS1F/fQotMNp32IWN+AUQOh0Ovqo9H8bl0tbZxdHyBhUQdSQpq7XHIm2XHuTnw8xY9wdGPy2sIcMUTphtTmxV91ALtUP3CJSgK8gwhlNU3UzTwMCorWrU0goILctlCA6V1WOxSlUh6kji0iEoqp/bJb07MCqHG0DiZJraLRw8U9ff3VLZneEy2g79gQfgga84zzgFoARdAWSYwrTA6MCKUdCqRgHCjODjP+T7cwb2xVZMHJ1OK/Aq2tlTC7DAaKCqsZ2KBvfMGN13uhaLVXJR34Bo1XGtQ+QI9QkArFsH6xY510CFEnSFtvMDhna7JF+sNV0aJSCaEh1MZLCfs0ycmqSs0iowa04B7q8Y3VNYg59e1z+TqTIfYuaM2FIZgLw8yCtyroEK+wRdCHG5EOKEEOKUEOK+IV7/oRDimBDikBDiQyHE0PfmCo8kNjSA+LCAof2zvoFw+cNw4XeGfK+UsmdCkcLBpKzWHot2ADBvmgGdGDDc24XsLqxm8YxwAv36FJeNNKWoL3ffDXe/4DzjFIAdgi6E0ANPAuuBecANQoiBXewPAFlSygXAG8BjjjZU4VzSh6sYBcj6Rq/rZQCna1qobe5Q+efOICJZK9bpFvRAPz2zYkPdskOva+ngaHlD//zz5mporhp+qIXC5dizQ18GnJJSFkkpO4BXgav7niCl3C6lbOl+uhcYxaGm8DQWmAwUDxUYHQXbXEkl6E5ACEi5GE5/AtYuwH2B0b1FtUgJ2TPHERBVuAx7BN0InOnzvKz72HDcBgw5lFIIcYcQYr8QYn9VlZov6ElkGLWK0aNj3P3llJoJDfBhZkyIkyyb4qSs0QZHn8sDtA/e6qYOzru4YnRPYTWBvnoWmvp00lQpix6HQ4OiQoibgCzgN0O9LqV8TkqZJaXMiomJceSlFRPEFhgd6+18bomZxTMi0OlGCYopxkfyxdpjdz56upsqRncX1rA0ORI/nz6SUZkP/gYIneZSWxTDY4+gnwUS+jw3dR/rhxBiHfBTYKOU0j15VYpxExPqzzRDwJgEvaGtkxMVjSr/3JmExGo+6u589HnTwtDrhEv96JUNbRRUNvXPP4fegOhoGS4ADz8MD9/sHAMVPdgj6PuAWUKIZCGEH3A9sKXvCUKIxcCzaGJe6XgzFa4g3WgY084vr7QOKZX/3OmkrIbSvdDZ1h0YDXGpoO8pqgHoL+hS9jblsofsbMhWrhlnM6qgSyktwF3Ae0A+8LqU8qgQ4iEhxMbu034DhAD/EELkCSG2DLOcwoNZYDRQVN1MY1unXefnlJjRCViYYHCyZVOc5FVgaetpp2v74HVVYHT3qRrCAnyYP73Pz7m5Clpr7fef794Nu/OdY6CiBx97TpJSbgO2DTj2YJ//r3OwXQo3kN5duHLkbAMXDry9HoLcUjNz4sMItfX1UDiHxGwQes3tkrKKBSYDb+SUca6+jenhzp8OtbuomuUpUej7xknGmuFy//1ADex42OH2KXpRlaKKHmwtWu1pANVlleSV1rFkhpof6nQCwsCYOTgw6gK3y5naFs7Utg7tPweV4eJhKEFX9BAd4s90OwOjBZWNNLZblP/cVaSshvJcaK3rDYy6INNlT2G3/3xmdP8XKvMhMAJC4pxug8J+lKAr+pFhsm/UWY4qKHItKatAWqHkUwJ8XRcY3V1YTXSIH7NiB9QZVOZrQ6HtyXBRuAwl6Ip+ZBi1itGGUQKjOSVmokP8mBEZ5CLLpjimpVqTtG63S4YLKkallOwurOHC1GhEX+GWUhsMbU8PF4VLUYKu6Ee6nX703BIzS2ZE9P9DVzgPH/9+Y+kWmAzUNndQXu+8itHCqmYqG9sH+88bz2vVqzFj8J//7nfwu/9yrIGKQShBV/TDnsBoTVM7p2talLvF1aSs0oKRDedcUjG6p7AaYIiAaHeGy1h26IsWwaLhh4wrHINdaYuuorOzk7KyMtra3DvZ3J0EBARgMpnw9XVPKmBUiD/G8EAOnx1i2EU3uaVa+1bVMtfFJK/SHos/Jm3edfjoBIfP1nF5erxTLvfpqRqM4YGD3Wqnd2mPY9mhf/ABkKeGXDgZjxL0srIyQkNDSUpKmpK38lJKampqKCsrIzl5+IESzibDaBix53ZOiRlfvejZzStcRPwCLbOkeCcBC7/KrLjQET94J4LVKtlTVMMX5sX1/1vMfQk+eQLmboCQMfRj2rQJqFGC7mQ8yuXS1tZGVFTUlBRzACEEUVFRbr9DyTAZOF3TQn3r0IHR3BIz86cbCPDVD/m6wknodFqzru6xdBnGMA6X1TklMHrsXAP1rZ392+Xm/R22fA9mroPr/uzwayomjkcJOjBlxdyGJ3z9tp33UK10OyxWDpbVKf+5u0heBQ1lUFNIhikcc0snZ+taHX4ZW/75hSnd+eeH/gFv3qn58b/68rDzZRXuxeMEXeF+MkaoRDx2roF2i1UJurtIWa09Fu/o/Tk5ITC6u7CalJhg4g0BcPRf8K87IGkFXP+KNpZQ4ZEoQR/A6dOnSU9Pd7cZbiUi2A9jeOCQI+nUhCI3E5kChgQo2snc+NDuwKhjBb2zy8rnxbVadkv+VnjjNki4AG54FfxU3YEn41FBUYXnsMBkGDJ1MafUjDE8kLiwADdYpUAIze1y/G0C9DA7zvEzRg+V1dPc0cU1gYfgH9/X+sjc+A/wn8BUqmefBT5ymI2KofFYQf/l1qMcK3dsBH/e9DB+ftX8Uc+zWCzceOON5ObmveOU2AAADltJREFUMn/+fF566SUef/xxtm7dSmtrK9nZ2Tz77LMIIfj973/PM888g4+PD/PmzePVV1+lubmZ7373uxw5coTOzk5+8YtfcPXVV496XU8i3Wjg3SPnqW/pxBDUm0KZW2ImKynSjZYpSFkFeS/D+UMsMBn499HzSCkdFn/ZU1jNal0emZ//DuIz4KY3wD90YovOmQOcdIh9iuFRLpchOHHiBHfeeSf5+fmEhYXx1FNPcdddd7Fv3z6OHDlCa2srb7/9NgCPPPIIBw4c4NChQzzzzDMA/OpXv+KSSy7h888/Z/v27fzoRz+iubnZnV/SmFlga6Vb3rv7K69r5Vx9G5mqw6J7seWjF+0k3WigrqWTMrPjAqONR9/nOb/fImLT4OZ/QoAD0lO3boWtn098HcWIeOwO3Z6dtLNISEjgoosuAuCmm27i97//PcnJyTz22GO0tLRQW1vL/Pnzueqqq1iwYAE33ngj11xzDddccw0A77//Plu2bOHxxx8HtHTM0tJS0tImT6vR9Om9gdGLujvt9TbkUjt0txIapxX1FO8kY/WtgPZzSnBAX52Ogu38oPrn1AYlEX/zm1reuyN44gmgBq5a5pj1FEOiduhDMPDWVQjBnXfeyRtvvMHhw4e5/fbbe3LF33nnHb7zne+Qm5vL0qVLsVgsSCnZvHkzeXl55OXlTToxBy0wmhAZ2C+DIqfETKCvnrnTJnj7rZg4KaugZA9zY/zw1TsoMHr6U/Sv3kCJjKPgsr9CkPrgnmwoQR+C0tJS9uzZA8Df//53VqxYAUB0dDRNTU288cYbAFitVs6cOcOaNWt49NFHqa+vp6mpicsuu4w//OEPPQUfBw4ccM8XMkFsHf1sHCg1szDBgK9e/dq4nZTVYGnF/1wOs+NC7RpKMiKln8HfvkydXxw3W37KorkzHWGlwsWov8whmDNnDk8++SRpaWmYzWa+/e1vc/vtt5Oens5ll13G0qVLAejq6uKmm24iIyODxYsX873vfY/w8HB+9rOf0dnZyYIFC5g/fz4/+9nP3PwVjY90o4HS2hbqWzpp7ejiaHmDSlf0FBIv6hlLt8Bk4NBEZoyW7YeXr4Wwafw4aBNGU6IaKzhJ8VgfurtISkri+PHjg45v2rSJTZs2DTq+a9euQccCAwN59tlnnWKfK1lg1IKfh8/W46sXWKySJTOUoHsEAWFgXAJFO0jPuJlXPj9Dmbl17H708gPw1y9BcDTNN/yLHf97hG+tGn2erMIzUYKuGJZ0YxigCbpE2/0tVoLuOSSvgl2/ZeEl2o32obIxBkbPHYSXroFAA3x9K5+f96fLKslOjR79vWPlr38F/uP4dRX9UC4XxbCEB2kTiQ6frSO3xExKTDCRwX7uNkthI2U1yC7mtB0ae2C04qgm5n4h8PW3ITyB3YXV+Ol1znGrJSRAwhi6MyrGhRJ0xYhkGDX/bG5pHZlqd+5ZJCwDn0B8Sz5hTvwYAqOVx+HFjeATALduhYhEAHYX1rAkMdw5XTRfew1e+8Tx6yr6oQRdMSLpRgNl5lZqmztUQNTT8PGHGcuhaAcZxnD7ZoxWF8CLV4HOB76+VesNA5ibOzh2rsE57haAp5+Gp991ztqKHpSgK0bEVjEKqiGXR5KyGqryWRrdSX1rJ2dqR6gYrSnUxBwJX98C0b2piZ8V1yDlEOPmFJMKJeiKEbFVjIYF+JAaM4HmTArnkKK1AciyHgbg0NlhJk3VFmti3tUBt2yBmDn9Xt5dWEOQn56FCaqtw2RGCXof6urqeOqpp5x+nTfffJNjx445/TqOwBDkS0pMMEuTItHp3D98QzGA+AUQEI7R/BmBvnoe+/cJ/n3kfH/XS12pJuadLXDLWxA3b9Ayn56qZllypCoam+Son14fxiroUkqsVuuYrzOZBB3gz19fyq+/lOFuMxRDodND8sXoT3/Mn27JxN9Hx7dezuHLz+zhQKkZ6svgLxugvQFuflPrnjiAioY2CqualbvFC/DcPPR374Pzhx27ZnwGrH9k2Jfvu+8+CgsLWbRoEWvWrOHQoUOYzWY6OzvZtGkTV199NadPn+ayyy7jggsuICcnh23btvHSSy/x8ssvExMTQ0JCApmZmdx7770UFhbyne98h6qqKoKCgnj++eepra1ly5Yt7Ny5k02bNrF582ZSU1Md+3U6mKToYHeboBiJlFWQv4XsyAbe/f5K/pFTxhPvn+SbT73D26EPEy0a0H39LZg+9IBm27g5pwVEAd54A3jPeesrAE8WdDfwyCOPcOTIEfLy8rBYLLS0tBAWFkZ1dTXLly9n48aNABQUFPDiiy+yfPly9u3bx+bNmzl48CCdnZ0sWbKEzMxMAO644w6eeeYZZs2axWeffcadd97JRx99xMaNG9mwYQPXXXedO79chbeQvFp7LN6JT1YqNyybwdWpetpe+CH+LTV8tesnLDwQyF0RHYQHDa4j2F1YjSHQl7RpYc6zMToacOL6/3979x9b1VkGcPz7UC7cFFsYFbaGH+0FZtig5YcX7HJHBy5RUKHOjNnFmC4Yu8ThjyiJC/9IjDon0ekfYoLrUmraLdRfjIwRzWRhocTY6sUVcJEijW1Y6S6kUqEI9vGPc9belVt6V9t7es55Pv/cc8+P9rlv3jw5ec973scAUzmh3+FOOhdUld27d3P8+HGmTZtGd3c3PT09AJSUlFBRUQHAiRMnqKqqIhqNEo1G2bp1KwD9/f20tLSwffv2ob9548aN3P8QE3xFS6FwAZx/HeI7oL+X/Jc+Q/6tXi5XH2TJ6buoO/EPmtu6+PJHl/H5B0qYOX14rnlLR4qKJXPJm8xnJPX1QBKeeHjy/ofJLqGLyGbgJ0Ae8Lyqfn/E8ZlAA/BhIAV8VlUvTGyoudXY2Ehvby9tbW1EIhFKS0uHlsydNWvsIYjBwUHmzJlDMpmc7FBN2Ik40xffehX+/Q40VMGVTvhcM3NjG3j2PngiUcozr/6N77xylgMnL/DNzcv5ZFkxXVeu03XlOl/csGRyY6yvB1KW0CfZmA9FRSQP+CmwBbgfeFxERj4m/wJwRVWXAc8Bz050oLlQUFDA1atXAejr62P+/PlEIhGOHTtGZ2dnxmsSiQSHDx9mYGCA/v7+oUpGhYWFxGIxmpubAeeO/9SpU7f9H2MmROwhuH4Z9m+Cyx3w+IsQ2zB0+L7iQhp2rKdhx3pmzZjOzqa/8Mi+Fp5/4zxg88+DIptZLuuBc6p6XlX/A7wEjCyQWQUccLd/CTwsE1XgMIeKiopIJBKsXLmSZDJJa2srZWVlNDQ0sHz58ozXrFu3jm3btlFeXs6WLVsoKytj9mxn7nZjYyN1dXWsWrWKFStWcOjQIQCqq6vZu3cva9asoaOjI2e/zwRYrNL57H8bqhth6aaMp1V+aB6vfGUDP3i0nIt91zlwspN5BTNZNt/eMQiCbIZcFgD/TPveBXxktHNU9ZaI9AFFwDvpJ4lILVALsHjx4nGGPLmamprGPKe9vf0933ft2sWePXu4du0alZWVQw9FY7EYR48eve36RCLhq2mLxgcKi+Hjz8A9K4eT+yjypgmPxRfxqfJifnGyk3tmRyeswLTxVk4fiqrqfmA/QDweH+dq/FNPbW0tZ86cYWBggJqaGtauXet1SCaMHvjS+zo9f8Z0nnxoak+ZNe9PNgm9G1iU9n2huy/TOV0iMh2YjfNwNBSyuas3JtSOHAGOeB1F4GUzhv4n4F4RiYnIDKAaeHnEOS8DNe72o8AfdJz1sMZdRisgwv77TUDl50P+TK+jCLwxE7qq3gJ24rzmdRY4qKqnReTbIrLNPa0OKBKRc8DXgafHE0w0GiWVSoU2qakqqVSKaDTqdSjGTKx9+2Cf3aFPNvEqecbjcW1tbX3Pvps3b9LV1TU03zuMotEoCxcuJBKxIr0mQDZuBFLw+ve8jmSK2DruK0WkTVXjmY5NqTdFI5EIsVjM6zCMMcaXbLVFY4wJCEvoxhgTEJbQjTEmIDx7KCoivUDmBVLG9kFGvIUaUtYOw6wtHNYOjiC3Q4mqzst0wLOE/v8QkdbRnvKGibXDMGsLh7WDI6ztYEMuxhgTEJbQjTEmIPya0Pd7HcAUYe0wzNrCYe3gCGU7+HIM3RhjzO38eodujDFmBEvoxhgTEL5L6CKyWUTeEpFzIjKuVR2DQEQuiMibIpIUkdaxrwgGEXlBRC6JSHvavrki8nsR+bv7eZeXMebKKG2xR0S63X6RFJFPeBnjZBORRSJyTETOiMhpEfmquz+UfcJXCT3LgtVhsklVV4dsvm09sHnEvqeB11T1XuA1xrl8sw/Vc3tbADzn9ovVqhr0NWtvAd9Q1fuBCuApNyeEsk/4KqGTXcFqE2Cqehy4PGJ3epHyA8CncxqUR0Zpi1BR1Yuq+md3+ypOzYYFhLRP+C2hZypYvcCjWLymwO9EpM0tvh1md6vqRXf7beBuL4OZAnaKyF/dIZlQDDUAiEgpsAb4IyHtE35L6GbYg6q6Fmf46SkRuXOp95BwSx+GeS7uz4ClwGrgIvBDb8PJDRH5APAr4Guq+q/0Y2HqE35L6NkUrA4FVe12Py8Bv8EZjgqrHhEpBnA/L3kcj2dUtUdV/6uqg8DPCUG/EJEITjJvVNVfu7tD2Sf8ltCzKVgdeCIyS0QK3t0GPga03/mqQEsvUl4DHPIwFk+9m8RcjxDwfiEiglPT+Kyq/ijtUCj7hO/eFHWnYf0YyANeUNXvehxSzonIEpy7cnDKCDaFpR1E5EVgI87yqD3At4DfAgeBxThLMj+mqoF/WDhKW2zEGW5R4ALwZNpYcuCIyIPAG8CbwKC7ezfOOHr4+oTfEroxxpjM/DbkYowxZhSW0I0xJiAsoRtjTEBYQjfGmICwhG6MMQFhCd0YYwLCEroxxgTE/wBmZFj3fmriowAAAABJRU5ErkJggg==\n",
                  "text/plain": "<Figure size 432x288 with 1 Axes>"
                },
                "metadata": {
                  "needs_background": "light"
                },
                "output_type": "display_data"
              },
              {
                "data": {
                  "text/plain": "Date\n2013-07-12    0.00\n2013-07-15    0.08\n2013-07-16   -1.14\n2013-07-17    1.69\n2013-07-18   -2.12\nName: Change, dtype: float64"
                },
                "metadata": {},
                "output_type": "display_data"
              },
              {
                "name": "stdout",
                "output_type": "stream",
                "text": [
                  "pred: -29.799999999999997 % \n"
                ]
              },
              {
                "data": {
                  "image/png": "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\n",
                  "text/plain": "<Figure size 432x288 with 1 Axes>"
                },
                "metadata": {
                  "needs_background": "light"
                },
                "output_type": "display_data"
              },
              {
                "data": {
                  "text/plain": "Date\n2022-05-17    1.96\n2022-05-18    0.74\n2022-05-19   -0.88\n2022-05-20    0.74\n2022-05-23   -0.15\nName: Change, dtype: float64"
                },
                "metadata": {},
                "output_type": "display_data"
              },
              {
                "name": "stdout",
                "output_type": "stream",
                "text": [
                  "pred: 48.20000000000001 % \n"
                ]
              }
            ]
          }
        },
        "8cc3d14e7bee4769abb3ee61f651ac58": {
          "model_module": "@jupyter-widgets/base",
          "model_module_version": "1.2.0",
          "model_name": "LayoutModel",
          "state": {
            "_model_module": "@jupyter-widgets/base",
            "_model_module_version": "1.2.0",
            "_model_name": "LayoutModel",
            "_view_count": null,
            "_view_module": "@jupyter-widgets/base",
            "_view_module_version": "1.2.0",
            "_view_name": "LayoutView",
            "align_content": null,
            "align_items": null,
            "align_self": null,
            "border": null,
            "bottom": null,
            "display": null,
            "flex": null,
            "flex_flow": null,
            "grid_area": null,
            "grid_auto_columns": null,
            "grid_auto_flow": null,
            "grid_auto_rows": null,
            "grid_column": null,
            "grid_gap": null,
            "grid_row": null,
            "grid_template_areas": null,
            "grid_template_columns": null,
            "grid_template_rows": null,
            "height": null,
            "justify_content": null,
            "justify_items": null,
            "left": null,
            "margin": null,
            "max_height": null,
            "max_width": null,
            "min_height": null,
            "min_width": null,
            "object_fit": null,
            "object_position": null,
            "order": null,
            "overflow": null,
            "overflow_x": null,
            "overflow_y": null,
            "padding": null,
            "right": null,
            "top": null,
            "visibility": null,
            "width": null
          }
        },
        "8d4e74cae5f64d3080295267a7919c8e": {
          "model_module": "@jupyter-widgets/base",
          "model_module_version": "1.2.0",
          "model_name": "LayoutModel",
          "state": {
            "_model_module": "@jupyter-widgets/base",
            "_model_module_version": "1.2.0",
            "_model_name": "LayoutModel",
            "_view_count": null,
            "_view_module": "@jupyter-widgets/base",
            "_view_module_version": "1.2.0",
            "_view_name": "LayoutView",
            "align_content": null,
            "align_items": null,
            "align_self": null,
            "border": null,
            "bottom": null,
            "display": null,
            "flex": null,
            "flex_flow": null,
            "grid_area": null,
            "grid_auto_columns": null,
            "grid_auto_flow": null,
            "grid_auto_rows": null,
            "grid_column": null,
            "grid_gap": null,
            "grid_row": null,
            "grid_template_areas": null,
            "grid_template_columns": null,
            "grid_template_rows": null,
            "height": null,
            "justify_content": null,
            "justify_items": null,
            "left": null,
            "margin": null,
            "max_height": null,
            "max_width": null,
            "min_height": null,
            "min_width": null,
            "object_fit": null,
            "object_position": null,
            "order": null,
            "overflow": null,
            "overflow_x": null,
            "overflow_y": null,
            "padding": null,
            "right": null,
            "top": null,
            "visibility": null,
            "width": null
          }
        },
        "95c239e1031d44178f95f86fd9448b47": {
          "model_module": "@jupyter-widgets/controls",
          "model_module_version": "1.5.0",
          "model_name": "DatePickerModel",
          "state": {
            "_dom_classes": [],
            "_model_module": "@jupyter-widgets/controls",
            "_model_module_version": "1.5.0",
            "_model_name": "DatePickerModel",
            "_view_count": null,
            "_view_module": "@jupyter-widgets/controls",
            "_view_module_version": "1.5.0",
            "_view_name": "DatePickerView",
            "description": "종료일",
            "description_tooltip": null,
            "disabled": false,
            "layout": "IPY_MODEL_4565ba07de3d49ffaef6bec6c962a61a",
            "style": "IPY_MODEL_e2a1e62110204978a31752bb1c9af661",
            "value": {
              "date": 26,
              "month": 7,
              "year": 2022
            }
          }
        },
        "9f1e593d78bb419ca0fa2b8485e6c768": {
          "model_module": "@jupyter-widgets/controls",
          "model_module_version": "1.5.0",
          "model_name": "DescriptionStyleModel",
          "state": {
            "_model_module": "@jupyter-widgets/controls",
            "_model_module_version": "1.5.0",
            "_model_name": "DescriptionStyleModel",
            "_view_count": null,
            "_view_module": "@jupyter-widgets/base",
            "_view_module_version": "1.2.0",
            "_view_name": "StyleView",
            "description_width": ""
          }
        },
        "a21cc04c3f604e56b3ef67afe601dc80": {
          "model_module": "@jupyter-widgets/controls",
          "model_module_version": "1.5.0",
          "model_name": "VBoxModel",
          "state": {
            "_dom_classes": [],
            "_model_module": "@jupyter-widgets/controls",
            "_model_module_version": "1.5.0",
            "_model_name": "VBoxModel",
            "_view_count": null,
            "_view_module": "@jupyter-widgets/controls",
            "_view_module_version": "1.5.0",
            "_view_name": "VBoxView",
            "box_style": "",
            "children": [
              "IPY_MODEL_dbe2c8429e0542848c36fdf9048837b1",
              "IPY_MODEL_565db58470f34c00af02a7c7fe57ae89"
            ],
            "layout": "IPY_MODEL_d815f083e5ad4b5d8f4e866930003311"
          }
        },
        "b94f7a62e6e547489c4c7080c130396e": {
          "model_module": "@jupyter-widgets/controls",
          "model_module_version": "1.5.0",
          "model_name": "ButtonStyleModel",
          "state": {
            "_model_module": "@jupyter-widgets/controls",
            "_model_module_version": "1.5.0",
            "_model_name": "ButtonStyleModel",
            "_view_count": null,
            "_view_module": "@jupyter-widgets/base",
            "_view_module_version": "1.2.0",
            "_view_name": "StyleView",
            "button_color": null,
            "font_weight": ""
          }
        },
        "b9bcabd27b1d47989236568452c04129": {
          "model_module": "@jupyter-widgets/controls",
          "model_module_version": "1.5.0",
          "model_name": "VBoxModel",
          "state": {
            "_dom_classes": [],
            "_model_module": "@jupyter-widgets/controls",
            "_model_module_version": "1.5.0",
            "_model_name": "VBoxModel",
            "_view_count": null,
            "_view_module": "@jupyter-widgets/controls",
            "_view_module_version": "1.5.0",
            "_view_name": "VBoxView",
            "box_style": "",
            "children": [
              "IPY_MODEL_6fd7b1b29bee4300ba53b668d0e83dda",
              "IPY_MODEL_bb4de29cf59f4608a57bade3d7569b98",
              "IPY_MODEL_95c239e1031d44178f95f86fd9448b47"
            ],
            "layout": "IPY_MODEL_8cc3d14e7bee4769abb3ee61f651ac58"
          }
        },
        "bb4de29cf59f4608a57bade3d7569b98": {
          "model_module": "@jupyter-widgets/controls",
          "model_module_version": "1.5.0",
          "model_name": "DatePickerModel",
          "state": {
            "_dom_classes": [],
            "_model_module": "@jupyter-widgets/controls",
            "_model_module_version": "1.5.0",
            "_model_name": "DatePickerModel",
            "_view_count": null,
            "_view_module": "@jupyter-widgets/controls",
            "_view_module_version": "1.5.0",
            "_view_name": "DatePickerView",
            "description": "시작일",
            "description_tooltip": null,
            "disabled": false,
            "layout": "IPY_MODEL_82d1e4f2bd314bf7a7ffefb3de10ff36",
            "style": "IPY_MODEL_03cbaf1d2c2b4da58638ebd47d873204",
            "value": {
              "date": 1,
              "month": 7,
              "year": 2022
            }
          }
        },
        "beac093aac3c4cd6af7d3f37bbec3ef8": {
          "model_module": "@jupyter-widgets/base",
          "model_module_version": "1.2.0",
          "model_name": "LayoutModel",
          "state": {
            "_model_module": "@jupyter-widgets/base",
            "_model_module_version": "1.2.0",
            "_model_name": "LayoutModel",
            "_view_count": null,
            "_view_module": "@jupyter-widgets/base",
            "_view_module_version": "1.2.0",
            "_view_name": "LayoutView",
            "align_content": null,
            "align_items": null,
            "align_self": null,
            "border": null,
            "bottom": null,
            "display": null,
            "flex": null,
            "flex_flow": null,
            "grid_area": null,
            "grid_auto_columns": null,
            "grid_auto_flow": null,
            "grid_auto_rows": null,
            "grid_column": null,
            "grid_gap": null,
            "grid_row": null,
            "grid_template_areas": null,
            "grid_template_columns": null,
            "grid_template_rows": null,
            "height": null,
            "justify_content": null,
            "justify_items": null,
            "left": null,
            "margin": null,
            "max_height": null,
            "max_width": null,
            "min_height": null,
            "min_width": null,
            "object_fit": null,
            "object_position": null,
            "order": null,
            "overflow": null,
            "overflow_x": null,
            "overflow_y": null,
            "padding": null,
            "right": null,
            "top": null,
            "visibility": null,
            "width": null
          }
        },
        "d815f083e5ad4b5d8f4e866930003311": {
          "model_module": "@jupyter-widgets/base",
          "model_module_version": "1.2.0",
          "model_name": "LayoutModel",
          "state": {
            "_model_module": "@jupyter-widgets/base",
            "_model_module_version": "1.2.0",
            "_model_name": "LayoutModel",
            "_view_count": null,
            "_view_module": "@jupyter-widgets/base",
            "_view_module_version": "1.2.0",
            "_view_name": "LayoutView",
            "align_content": null,
            "align_items": null,
            "align_self": null,
            "border": null,
            "bottom": null,
            "display": null,
            "flex": null,
            "flex_flow": null,
            "grid_area": null,
            "grid_auto_columns": null,
            "grid_auto_flow": null,
            "grid_auto_rows": null,
            "grid_column": null,
            "grid_gap": null,
            "grid_row": null,
            "grid_template_areas": null,
            "grid_template_columns": null,
            "grid_template_rows": null,
            "height": null,
            "justify_content": null,
            "justify_items": null,
            "left": null,
            "margin": null,
            "max_height": null,
            "max_width": null,
            "min_height": null,
            "min_width": null,
            "object_fit": null,
            "object_position": null,
            "order": null,
            "overflow": null,
            "overflow_x": null,
            "overflow_y": null,
            "padding": null,
            "right": null,
            "top": null,
            "visibility": null,
            "width": null
          }
        },
        "dbe2c8429e0542848c36fdf9048837b1": {
          "model_module": "@jupyter-widgets/controls",
          "model_module_version": "1.5.0",
          "model_name": "HTMLModel",
          "state": {
            "_dom_classes": [],
            "_model_module": "@jupyter-widgets/controls",
            "_model_module_version": "1.5.0",
            "_model_name": "HTMLModel",
            "_view_count": null,
            "_view_module": "@jupyter-widgets/controls",
            "_view_module_version": "1.5.0",
            "_view_name": "HTMLView",
            "description": "",
            "description_tooltip": null,
            "layout": "IPY_MODEL_213ecab408f8414aaca77fa27cd66bb9",
            "placeholder": "​",
            "style": "IPY_MODEL_1937366903d84d4c8a83b789470e2460",
            "value": "<h2>패턴 예측</h2>"
          }
        },
        "e2a1e62110204978a31752bb1c9af661": {
          "model_module": "@jupyter-widgets/controls",
          "model_module_version": "1.5.0",
          "model_name": "DescriptionStyleModel",
          "state": {
            "_model_module": "@jupyter-widgets/controls",
            "_model_module_version": "1.5.0",
            "_model_name": "DescriptionStyleModel",
            "_view_count": null,
            "_view_module": "@jupyter-widgets/base",
            "_view_module_version": "1.2.0",
            "_view_name": "StyleView",
            "description_width": ""
          }
        }
      }
    }
  },
  "nbformat": 4,
  "nbformat_minor": 5
}
